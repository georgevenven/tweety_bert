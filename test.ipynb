{
 "cells": [
  {
   "cell_type": "code",
   "execution_count": 53,
   "metadata": {},
   "outputs": [
    {
     "name": "stdout",
     "output_type": "stream",
     "text": [
      "(513, 5789)\n",
      "(5789,)\n",
      "(5789,)\n"
     ]
    }
   ],
   "source": [
    "import numpy as np\n",
    "\n",
    "f = \"/media/george-vengrovski/disk1/5288_test_padded/USA5288_45355.33491616_3_4_9_18_11.npz\"\n",
    "\n",
    "f = np.load(f, allow_pickle=True)\n",
    "\n",
    "print(f['s'].shape)\n",
    "print(f['vocalization'].shape)\n",
    "print(f['labels'].shape)\n"
   ]
  }
 ],
 "metadata": {
  "language_info": {
   "name": "python"
  }
 },
 "nbformat": 4,
 "nbformat_minor": 2
}
