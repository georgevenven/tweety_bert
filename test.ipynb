{
 "cells": [
  {
   "cell_type": "code",
   "execution_count": null,
   "metadata": {},
   "outputs": [],
   "source": [
    "import numpy as np\n",
    "import matplotlib.pyplot as plt\n",
    "import os\n",
    "\n",
    "specs_dir = \"/media/george-vengrovski/disk1/5288_specs\"\n",
    "\n",
    "for file in os.listdir(specs_dir):\n",
    "    if file.endswith(\".npz\"):\n",
    "        file_path = os.path.join(specs_dir, file)\n",
    "\n",
    "        # Load the npz file\n",
    "        data = np.load(file_path)\n",
    "        spectrogram = data['s']\n",
    "        vocalization = data['vocalization']\n",
    "\n",
    "        # Plot the spectrogram\n",
    "        fig, (ax1, ax2) = plt.subplots(2, 1, figsize=(10, 8), sharex=True)\n",
    "\n",
    "        cax = ax1.imshow(spectrogram, aspect='auto', origin='lower', cmap='viridis')\n",
    "        ax1.set_title(f'Spectrogram - {file}')\n",
    "        ax1.set_ylabel('Frequency bins')\n",
    "\n",
    "        # Plot the vocalization array as a bar on the bottom\n",
    "        ax2.bar(range(len(vocalization)), vocalization, width=1.0, color='r')\n",
    "        ax2.set_title('Vocalization')\n",
    "        ax2.set_xlabel('Time bins')\n",
    "        ax2.set_ylabel('Vocalization (binary)')\n",
    "\n",
    "        plt.show()\n"
   ]
  }
 ],
 "metadata": {
  "kernelspec": {
   "display_name": "tweetybert",
   "language": "python",
   "name": "python3"
  },
  "language_info": {
   "codemirror_mode": {
    "name": "ipython",
    "version": 3
   },
   "file_extension": ".py",
   "mimetype": "text/x-python",
   "name": "python",
   "nbconvert_exporter": "python",
   "pygments_lexer": "ipython3",
   "version": "3.11.7"
  },
  "orig_nbformat": 4
 },
 "nbformat": 4,
 "nbformat_minor": 2
}
