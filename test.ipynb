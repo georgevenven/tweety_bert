{
 "cells": [
  {
   "cell_type": "code",
   "execution_count": 4,
   "metadata": {},
   "outputs": [
    {
     "name": "stdout",
     "output_type": "stream",
     "text": [
      "['embedding_outputs', 'hdbscan_labels', 'ground_truth_labels', 'specs', 'hdbscan_colors', 'ground_truth_colors', 'dataloader_indices', 'dataloader_colors', 'sample_ids', 'data_dir_mapping']\n",
      "hdbscan_labels shape: (7072,)\n",
      "ground_truth_colors shape: (30,)\n",
      "dataloader_indices shape: (7072,)\n",
      "sample_ids shape: (2072,)\n",
      "data_dir_mapping shape: (2072,)\n"
     ]
    }
   ],
   "source": [
    "import numpy as np\n",
    "\n",
    "f = \"/media/george-vengrovski/flash-drive/labels_SHAM_USA5271.npz\"\n",
    "\n",
    "f = np.load(f, allow_pickle=True)\n",
    "\n",
    "print(f.files)\n",
    "# hdbscan_labels, dataloader_indices, sample_ids, data_dir_mapping\n",
    "\n",
    "print(\"hdbscan_labels shape:\", f['hdbscan_labels'].shape)\n",
    "print(\"dataloader_indices shape:\", f['dataloader_indices'].shape)\n",
    "print(\"sample_ids shape:\", f['sample_ids'].shape)\n",
    "print(\"data_dir_mapping shape:\", f['data_dir_mapping'].shape)"
   ]
  }
 ],
 "metadata": {
  "kernelspec": {
   "display_name": "tweetybert",
   "language": "python",
   "name": "python3"
  },
  "language_info": {
   "codemirror_mode": {
    "name": "ipython",
    "version": 3
   },
   "file_extension": ".py",
   "mimetype": "text/x-python",
   "name": "python",
   "nbconvert_exporter": "python",
   "pygments_lexer": "ipython3",
   "version": "3.11.7"
  }
 },
 "nbformat": 4,
 "nbformat_minor": 2
}
