{
 "cells": [
  {
   "cell_type": "code",
   "execution_count": null,
   "metadata": {},
   "outputs": [],
   "source": [
    "import numpy as np\n",
    "import matplotlib.pyplot as plt\n",
    "import matplotlib.colors as mcolors\n",
    "\n",
    "# Load the data from the .npz file\n",
    "f = \"/media/george-vengrovski/Extreme SSD/yarden_data/llb3_george_specs/llb3_4278_2018_05_03_13_42_05.npz\"\n",
    "data = np.load(f, allow_pickle=True)\n",
    "\n",
    "# Extract the spectrogram and labels\n",
    "spectrogram = data['s']\n",
    "labels = data['labels']\n",
    "\n",
    "print(np.unique(labels))\n",
    "\n",
    "# Get the unique labels and assign each a unique color\n",
    "unique_labels = np.unique(labels)\n",
    "cmap = plt.get_cmap('tab10')  # Using a categorical colormap for distinct colors\n",
    "colors = [cmap(i) for i in range(len(unique_labels))]\n",
    "\n",
    "# Create a color map based on unique labels\n",
    "label_color_map = {label: color for label, color in zip(unique_labels, colors)}\n",
    "\n",
    "# Create an array of colors corresponding to the labels\n",
    "label_colors = [label_color_map[label] for label in labels]\n",
    "\n",
    "# Plot the spectrogram and the label colors\n",
    "fig, (ax1, ax2) = plt.subplots(2, 1, figsize=(12, 8), sharex=True)\n",
    "\n",
    "# Plot the spectrogram\n",
    "ax1.imshow(spectrogram, aspect='auto', origin='lower', cmap='viridis')\n",
    "ax1.set_ylabel('Frequency (Hz)')\n",
    "ax1.set_title('Spectrogram')\n",
    "\n",
    "# Plot the label colors\n",
    "ax2.imshow([label_colors], aspect='auto')\n",
    "ax2.set_yticks([])\n",
    "ax2.set_xlabel('Time (frames)')\n",
    "ax2.set_title('Label Colors')\n",
    "\n",
    "plt.tight_layout()\n",
    "plt.show()\n"
   ]
  }
 ],
 "metadata": {
  "language_info": {
   "name": "python"
  }
 },
 "nbformat": 4,
 "nbformat_minor": 2
}
