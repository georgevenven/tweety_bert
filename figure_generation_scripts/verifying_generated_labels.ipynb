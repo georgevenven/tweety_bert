{
 "cells": [
  {
   "cell_type": "code",
   "execution_count": 1,
   "metadata": {},
   "outputs": [
    {
     "ename": "FileNotFoundError",
     "evalue": "[Errno 2] No such file or directory: 'temp/umap_files'",
     "output_type": "error",
     "traceback": [
      "\u001b[0;31m---------------------------------------------------------------------------\u001b[0m",
      "\u001b[0;31mFileNotFoundError\u001b[0m                         Traceback (most recent call last)",
      "Cell \u001b[0;32mIn[1], line 11\u001b[0m\n\u001b[1;32m      8\u001b[0m folder_path \u001b[38;5;241m=\u001b[39m \u001b[38;5;124m\"\u001b[39m\u001b[38;5;124mtemp/umap_files\u001b[39m\u001b[38;5;124m\"\u001b[39m\n\u001b[1;32m     10\u001b[0m \u001b[38;5;66;03m# Get all .npz files in the folder\u001b[39;00m\n\u001b[0;32m---> 11\u001b[0m npz_files \u001b[38;5;241m=\u001b[39m [f \u001b[38;5;28;01mfor\u001b[39;00m f \u001b[38;5;129;01min\u001b[39;00m os\u001b[38;5;241m.\u001b[39mlistdir(folder_path) \u001b[38;5;28;01mif\u001b[39;00m f\u001b[38;5;241m.\u001b[39mendswith(\u001b[38;5;124m'\u001b[39m\u001b[38;5;124m.npz\u001b[39m\u001b[38;5;124m'\u001b[39m)]\n\u001b[1;32m     13\u001b[0m \u001b[38;5;66;03m# Process the first 50 files (or all if less than 50)\u001b[39;00m\n\u001b[1;32m     14\u001b[0m \u001b[38;5;28;01mfor\u001b[39;00m file \u001b[38;5;129;01min\u001b[39;00m tqdm(npz_files[:\u001b[38;5;241m50\u001b[39m], desc\u001b[38;5;241m=\u001b[39m\u001b[38;5;124m\"\u001b[39m\u001b[38;5;124mProcessing files\u001b[39m\u001b[38;5;124m\"\u001b[39m):\n",
      "\u001b[0;31mFileNotFoundError\u001b[0m: [Errno 2] No such file or directory: 'temp/umap_files'"
     ]
    }
   ],
   "source": [
    "import numpy as np\n",
    "import matplotlib.pyplot as plt\n",
    "import matplotlib.colors as mcolors\n",
    "import os\n",
    "from tqdm import tqdm\n",
    "\n",
    "# Folder containing the .npz files\n",
    "folder_path = \"/home/george-vengrovski/Documents/projects/tweety_bert_paper/temp/umap_files\"\n",
    "\n",
    "# Get all .npz files in the folder\n",
    "npz_files = [f for f in os.listdir(folder_path) if f.endswith('.npz')]\n",
    "\n",
    "# Process the first 50 files (or all if less than 50)\n",
    "for file in tqdm(npz_files[:50], desc=\"Processing files\"):\n",
    "    file_path = os.path.join(folder_path, file)\n",
    "    \n",
    "    # Load the data from the .npz file\n",
    "    data = np.load(file_path, allow_pickle=True)\n",
    "\n",
    "    # Extract the spectrogram and labels\n",
    "    spectrogram = data['s']\n",
    "    labels = data['labels']\n",
    "\n",
    "    print(f\"File: {file}\")\n",
    "    print(f\"Unique labels: {np.unique(labels)}\")\n",
    "\n",
    "    # Get the unique labels and assign each a unique color\n",
    "    unique_labels = np.unique(labels)\n",
    "    cmap = plt.get_cmap('tab10')  # Using a categorical colormap for distinct colors\n",
    "    colors = [cmap(i) for i in range(len(unique_labels))]\n",
    "\n",
    "    # Create a color map based on unique labels\n",
    "    label_color_map = {label: color for label, color in zip(unique_labels, colors)}\n",
    "\n",
    "    # Create an array of colors corresponding to the labels\n",
    "    label_colors = [label_color_map[label] for label in labels]\n",
    "\n",
    "    # Plot the spectrogram and the label colors\n",
    "    fig, (ax1, ax2) = plt.subplots(2, 1, figsize=(12, 8), sharex=True)\n",
    "\n",
    "    # Plot the spectrogram\n",
    "    ax1.imshow(spectrogram, aspect='auto', origin='lower', cmap='viridis')\n",
    "    ax1.set_ylabel('Frequency (Hz)')\n",
    "    ax1.set_title(f'Spectrogram - {file}')\n",
    "\n",
    "    # Plot the label colors\n",
    "    ax2.imshow([label_colors], aspect='auto')\n",
    "    ax2.set_yticks([])\n",
    "    ax2.set_xlabel('Time (frames)')\n",
    "    ax2.set_title('Label Colors')\n",
    "\n",
    "    plt.tight_layout()\n",
    "    plt.show()\n",
    "\n",
    "print(\"Processing complete.\")"
   ]
  }
 ],
 "metadata": {
  "kernelspec": {
   "display_name": "tweetybert",
   "language": "python",
   "name": "python3"
  },
  "language_info": {
   "codemirror_mode": {
    "name": "ipython",
    "version": 3
   },
   "file_extension": ".py",
   "mimetype": "text/x-python",
   "name": "python",
   "nbconvert_exporter": "python",
   "pygments_lexer": "ipython3",
   "version": "3.11.9"
  }
 },
 "nbformat": 4,
 "nbformat_minor": 2
}
