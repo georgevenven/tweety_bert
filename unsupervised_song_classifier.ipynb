{
 "cells": [
  {
   "cell_type": "code",
   "execution_count": null,
   "metadata": {},
   "outputs": [],
   "source": [
    "import torch\n",
    "import numpy as np\n",
    "import matplotlib.pyplot as plt\n",
    "import os\n",
    "import sys\n",
    "sys.path.append(\"src\")\n",
    "\n",
    "from decoder import TweetyBertClassifier\n",
    "from spectogram_generator import WavtoSpec\n",
    "\n",
    "device = torch.device(\"cuda\" if torch.cuda.is_available() else \"cpu\")\n",
    "folder = \"/media/george-vengrovski/disk2/canary/unsorted/USA5206\"\n",
    "classifier_path = \"/media/george-vengrovski/disk1/linear_decoder_test\"\n",
    "\n",
    "dst_folder = \"/media/george-vengrovski/disk2/canary/unsorted/USA5206_specs\"\n",
    "os.makedirs(dst_folder, exist_ok=True)\n",
    "\n",
    "wav_to_spec = WavtoSpec(folder, dst_folder, csv_file_dir=None)\n",
    "\n",
    "for day in os.listdir(folder):\n",
    "    day_path = os.path.join(folder, day)\n",
    "    if os.path.isdir(day_path):\n",
    "        for song in os.listdir(day_path):\n",
    "            file_path = os.path.join(day_path, song)\n",
    "            if file_path.lower().endswith('.wav'):\n",
    "                try:\n",
    "                    WavtoSpec.process_file(wav_to_spec, file_path, None)\n",
    "                except Exception as e:\n",
    "                    print(f\"Error processing {file_path}: {e}\")\n",
    "\n",
    "print(\"Processing complete.\")"
   ]
  }
 ],
 "metadata": {
  "kernelspec": {
   "display_name": "tweetybert",
   "language": "python",
   "name": "python3"
  },
  "language_info": {
   "codemirror_mode": {
    "name": "ipython",
    "version": 3
   },
   "file_extension": ".py",
   "mimetype": "text/x-python",
   "name": "python",
   "nbconvert_exporter": "python",
   "pygments_lexer": "ipython3",
   "version": "3.11.7"
  }
 },
 "nbformat": 4,
 "nbformat_minor": 2
}
