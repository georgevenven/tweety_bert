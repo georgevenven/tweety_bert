{
 "cells": [
  {
   "cell_type": "code",
   "execution_count": 5,
   "metadata": {},
   "outputs": [
    {
     "ename": "FileNotFoundError",
     "evalue": "[Errno 2] No such file or directory: 'results/state_switching_analysis.json'",
     "output_type": "error",
     "traceback": [
      "\u001b[0;31m---------------------------------------------------------------------------\u001b[0m",
      "\u001b[0;31mFileNotFoundError\u001b[0m                         Traceback (most recent call last)",
      "Cell \u001b[0;32mIn[5], line 7\u001b[0m\n\u001b[1;32m      4\u001b[0m \u001b[38;5;28;01mimport\u001b[39;00m \u001b[38;5;21;01mseaborn\u001b[39;00m \u001b[38;5;28;01mas\u001b[39;00m \u001b[38;5;21;01msns\u001b[39;00m\n\u001b[1;32m      6\u001b[0m \u001b[38;5;66;03m# Load the JSON data\u001b[39;00m\n\u001b[0;32m----> 7\u001b[0m \u001b[38;5;28;01mwith\u001b[39;00m \u001b[38;5;28mopen\u001b[39m(\u001b[38;5;124m'\u001b[39m\u001b[38;5;124mresults/state_switching_analysis.json\u001b[39m\u001b[38;5;124m'\u001b[39m, \u001b[38;5;124m'\u001b[39m\u001b[38;5;124mr\u001b[39m\u001b[38;5;124m'\u001b[39m) \u001b[38;5;28;01mas\u001b[39;00m f:\n\u001b[1;32m      8\u001b[0m     data \u001b[38;5;241m=\u001b[39m json\u001b[38;5;241m.\u001b[39mload(f)\n\u001b[1;32m     10\u001b[0m \u001b[38;5;66;03m# Extract all groups\u001b[39;00m\n",
      "File \u001b[0;32m~/anaconda3/envs/tweetybert/lib/python3.11/site-packages/IPython/core/interactiveshell.py:324\u001b[0m, in \u001b[0;36m_modified_open\u001b[0;34m(file, *args, **kwargs)\u001b[0m\n\u001b[1;32m    317\u001b[0m \u001b[38;5;28;01mif\u001b[39;00m file \u001b[38;5;129;01min\u001b[39;00m {\u001b[38;5;241m0\u001b[39m, \u001b[38;5;241m1\u001b[39m, \u001b[38;5;241m2\u001b[39m}:\n\u001b[1;32m    318\u001b[0m     \u001b[38;5;28;01mraise\u001b[39;00m \u001b[38;5;167;01mValueError\u001b[39;00m(\n\u001b[1;32m    319\u001b[0m         \u001b[38;5;124mf\u001b[39m\u001b[38;5;124m\"\u001b[39m\u001b[38;5;124mIPython won\u001b[39m\u001b[38;5;124m'\u001b[39m\u001b[38;5;124mt let you open fd=\u001b[39m\u001b[38;5;132;01m{\u001b[39;00mfile\u001b[38;5;132;01m}\u001b[39;00m\u001b[38;5;124m by default \u001b[39m\u001b[38;5;124m\"\u001b[39m\n\u001b[1;32m    320\u001b[0m         \u001b[38;5;124m\"\u001b[39m\u001b[38;5;124mas it is likely to crash IPython. If you know what you are doing, \u001b[39m\u001b[38;5;124m\"\u001b[39m\n\u001b[1;32m    321\u001b[0m         \u001b[38;5;124m\"\u001b[39m\u001b[38;5;124myou can use builtins\u001b[39m\u001b[38;5;124m'\u001b[39m\u001b[38;5;124m open.\u001b[39m\u001b[38;5;124m\"\u001b[39m\n\u001b[1;32m    322\u001b[0m     )\n\u001b[0;32m--> 324\u001b[0m \u001b[38;5;28;01mreturn\u001b[39;00m io_open(file, \u001b[38;5;241m*\u001b[39margs, \u001b[38;5;241m*\u001b[39m\u001b[38;5;241m*\u001b[39mkwargs)\n",
      "\u001b[0;31mFileNotFoundError\u001b[0m: [Errno 2] No such file or directory: 'results/state_switching_analysis.json'"
     ]
    }
   ],
   "source": [
    "import json\n",
    "import numpy as np\n",
    "import matplotlib.pyplot as plt\n",
    "import seaborn as sns\n",
    "\n",
    "# Load the JSON data\n",
    "with open('results/state_switching_analysis.json', 'r') as f:\n",
    "    data = json.load(f)\n",
    "\n",
    "# Extract all groups\n",
    "groups = data['groups']\n",
    "\n",
    "# Prepare data\n",
    "group_labels = [f\"Group {group['group']}\" for group in groups]\n",
    "mean_switching_times = [group['switching_times']['mean'] for group in groups]\n",
    "total_song_entropies = [group['total_transition_entropy'] for group in groups]\n",
    "\n",
    "# Calculate mean phrase entropy and std\n",
    "mean_phrase_entropies = []\n",
    "std_phrase_entropies = []\n",
    "for group in groups:\n",
    "    phrase_entropies = list(group['transition_entropies'].values())\n",
    "    mean_phrase_entropies.append(np.mean(phrase_entropies))\n",
    "    std_phrase_entropies.append(np.std(phrase_entropies))\n",
    "\n",
    "# Function to create a bar plot\n",
    "def create_bar_plot(ax, data, labels, title, ylabel, yerr=None):\n",
    "    bars = ax.bar(labels, data, yerr=yerr, capsize=5)\n",
    "    ax.set_title(title, fontsize=16)\n",
    "    ax.set_xlabel('Group', fontsize=12)\n",
    "    ax.set_ylabel(ylabel, fontsize=12)\n",
    "    ax.tick_params(axis='both', which='major', labelsize=10)\n",
    "    \n",
    "    # Add value labels on top of each bar\n",
    "    for bar in bars:\n",
    "        height = bar.get_height()\n",
    "        ax.text(bar.get_x() + bar.get_width()/2., height,\n",
    "                f'{height:.2f}', ha='center', va='bottom')\n",
    "\n",
    "# Create three separate plots\n",
    "fig, (ax1, ax2, ax3) = plt.subplots(3, 1, figsize=(12, 24))\n",
    "\n",
    "# 1. Mean Switching Time\n",
    "create_bar_plot(ax1, mean_switching_times, group_labels, \n",
    "                'Mean Switching Time', 'Time (arbitrary units)')\n",
    "\n",
    "# 2. Mean Phrase Entropy\n",
    "create_bar_plot(ax2, mean_phrase_entropies, group_labels, \n",
    "                'Mean Phrase Entropy', 'Entropy', yerr=std_phrase_entropies)\n",
    "\n",
    "# 3. Total Song Entropy\n",
    "create_bar_plot(ax3, total_song_entropies, group_labels, \n",
    "                'Total Song Entropy', 'Entropy')\n",
    "\n",
    "plt.tight_layout()\n",
    "plt.show()\n",
    "\n",
    "# Print additional statistics\n",
    "print(\"Additional Statistics:\")\n",
    "for i, group in enumerate(groups):\n",
    "    print(f\"\\nGroup {group['group']}:\")\n",
    "    print(f\"  Mean Switching Time: {mean_switching_times[i]:.2f}\")\n",
    "    print(f\"  Mean Phrase Entropy: {mean_phrase_entropies[i]:.2f} ± {std_phrase_entropies[i]:.2f}\")\n",
    "    print(f\"  Total Song Entropy: {total_song_entropies[i]:.2f}\")\n",
    "    print(f\"  Number of Phrases: {len(group['transition_entropies'])}\")"
   ]
  }
 ],
 "metadata": {
  "kernelspec": {
   "display_name": "tweetybert",
   "language": "python",
   "name": "python3"
  },
  "language_info": {
   "codemirror_mode": {
    "name": "ipython",
    "version": 3
   },
   "file_extension": ".py",
   "mimetype": "text/x-python",
   "name": "python",
   "nbconvert_exporter": "python",
   "pygments_lexer": "ipython3",
   "version": "3.11.7"
  }
 },
 "nbformat": 4,
 "nbformat_minor": 2
}
