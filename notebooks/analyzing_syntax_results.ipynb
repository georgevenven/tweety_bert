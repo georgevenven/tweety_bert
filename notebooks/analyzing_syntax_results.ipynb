{
 "cells": [
  {
   "cell_type": "code",
   "execution_count": 7,
   "metadata": {},
   "outputs": [
    {
     "ename": "KeyError",
     "evalue": "'switching_times'",
     "output_type": "error",
     "traceback": [
      "\u001b[0;31m---------------------------------------------------------------------------\u001b[0m",
      "\u001b[0;31mKeyError\u001b[0m                                  Traceback (most recent call last)",
      "Cell \u001b[0;32mIn[7], line 15\u001b[0m\n\u001b[1;32m     13\u001b[0m \u001b[38;5;66;03m# Prepare data\u001b[39;00m\n\u001b[1;32m     14\u001b[0m group_labels \u001b[38;5;241m=\u001b[39m [\u001b[38;5;124mf\u001b[39m\u001b[38;5;124m\"\u001b[39m\u001b[38;5;124mGroup \u001b[39m\u001b[38;5;132;01m{\u001b[39;00mgroup[\u001b[38;5;124m'\u001b[39m\u001b[38;5;124mgroup\u001b[39m\u001b[38;5;124m'\u001b[39m]\u001b[38;5;132;01m}\u001b[39;00m\u001b[38;5;124m\"\u001b[39m \u001b[38;5;28;01mfor\u001b[39;00m group \u001b[38;5;129;01min\u001b[39;00m groups]\n\u001b[0;32m---> 15\u001b[0m mean_switching_times \u001b[38;5;241m=\u001b[39m [group[\u001b[38;5;124m'\u001b[39m\u001b[38;5;124mswitching_times\u001b[39m\u001b[38;5;124m'\u001b[39m][\u001b[38;5;124m'\u001b[39m\u001b[38;5;124mmean\u001b[39m\u001b[38;5;124m'\u001b[39m] \u001b[38;5;28;01mfor\u001b[39;00m group \u001b[38;5;129;01min\u001b[39;00m groups]\n\u001b[1;32m     16\u001b[0m total_song_entropies \u001b[38;5;241m=\u001b[39m [group[\u001b[38;5;124m'\u001b[39m\u001b[38;5;124mtotal_transition_entropy\u001b[39m\u001b[38;5;124m'\u001b[39m] \u001b[38;5;28;01mfor\u001b[39;00m group \u001b[38;5;129;01min\u001b[39;00m groups]\n\u001b[1;32m     18\u001b[0m \u001b[38;5;66;03m# Calculate mean phrase entropy and std\u001b[39;00m\n",
      "Cell \u001b[0;32mIn[7], line 15\u001b[0m, in \u001b[0;36m<listcomp>\u001b[0;34m(.0)\u001b[0m\n\u001b[1;32m     13\u001b[0m \u001b[38;5;66;03m# Prepare data\u001b[39;00m\n\u001b[1;32m     14\u001b[0m group_labels \u001b[38;5;241m=\u001b[39m [\u001b[38;5;124mf\u001b[39m\u001b[38;5;124m\"\u001b[39m\u001b[38;5;124mGroup \u001b[39m\u001b[38;5;132;01m{\u001b[39;00mgroup[\u001b[38;5;124m'\u001b[39m\u001b[38;5;124mgroup\u001b[39m\u001b[38;5;124m'\u001b[39m]\u001b[38;5;132;01m}\u001b[39;00m\u001b[38;5;124m\"\u001b[39m \u001b[38;5;28;01mfor\u001b[39;00m group \u001b[38;5;129;01min\u001b[39;00m groups]\n\u001b[0;32m---> 15\u001b[0m mean_switching_times \u001b[38;5;241m=\u001b[39m [group[\u001b[38;5;124m'\u001b[39m\u001b[38;5;124mswitching_times\u001b[39m\u001b[38;5;124m'\u001b[39m][\u001b[38;5;124m'\u001b[39m\u001b[38;5;124mmean\u001b[39m\u001b[38;5;124m'\u001b[39m] \u001b[38;5;28;01mfor\u001b[39;00m group \u001b[38;5;129;01min\u001b[39;00m groups]\n\u001b[1;32m     16\u001b[0m total_song_entropies \u001b[38;5;241m=\u001b[39m [group[\u001b[38;5;124m'\u001b[39m\u001b[38;5;124mtotal_transition_entropy\u001b[39m\u001b[38;5;124m'\u001b[39m] \u001b[38;5;28;01mfor\u001b[39;00m group \u001b[38;5;129;01min\u001b[39;00m groups]\n\u001b[1;32m     18\u001b[0m \u001b[38;5;66;03m# Calculate mean phrase entropy and std\u001b[39;00m\n",
      "\u001b[0;31mKeyError\u001b[0m: 'switching_times'"
     ]
    }
   ],
   "source": [
    "import json\n",
    "import numpy as np\n",
    "import matplotlib.pyplot as plt\n",
    "import seaborn as sns\n",
    "\n",
    "# Load the JSON data\n",
    "with open('/home/george-vengrovski/Documents/projects/tweety_bert_paper/results/state_switching_analysis.json', 'r') as f:\n",
    "    data = json.load(f)\n",
    "\n",
    "# Extract all groups\n",
    "groups = data['groups']\n",
    "\n",
    "# Prepare data\n",
    "group_labels = [f\"Group {group['group']}\" for group in groups]\n",
    "mean_switching_times = [group['switching_times']['mean'] for group in groups]\n",
    "total_song_entropies = [group['total_transition_entropy'] for group in groups]\n",
    "\n",
    "# Calculate mean phrase entropy and std\n",
    "mean_phrase_entropies = []\n",
    "std_phrase_entropies = []\n",
    "for group in groups:\n",
    "    phrase_entropies = list(group['transition_entropies'].values())\n",
    "    mean_phrase_entropies.append(np.mean(phrase_entropies))\n",
    "    std_phrase_entropies.append(np.std(phrase_entropies))\n",
    "\n",
    "# Function to create a bar plot\n",
    "def create_bar_plot(ax, data, labels, title, ylabel, yerr=None):\n",
    "    bars = ax.bar(labels, data, yerr=yerr, capsize=5)\n",
    "    ax.set_title(title, fontsize=16)\n",
    "    ax.set_xlabel('Group', fontsize=12)\n",
    "    ax.set_ylabel(ylabel, fontsize=12)\n",
    "    ax.tick_params(axis='both', which='major', labelsize=10)\n",
    "    \n",
    "    # Add value labels on top of each bar\n",
    "    for bar in bars:\n",
    "        height = bar.get_height()\n",
    "        ax.text(bar.get_x() + bar.get_width()/2., height,\n",
    "                f'{height:.2f}', ha='center', va='bottom')\n",
    "\n",
    "# Create three separate plots\n",
    "fig, (ax1, ax2, ax3) = plt.subplots(3, 1, figsize=(12, 24))\n",
    "\n",
    "# 1. Mean Switching Time\n",
    "create_bar_plot(ax1, mean_switching_times, group_labels, \n",
    "                'Mean Switching Time', 'Time (arbitrary units)')\n",
    "\n",
    "# 2. Mean Phrase Entropy\n",
    "create_bar_plot(ax2, mean_phrase_entropies, group_labels, \n",
    "                'Mean Phrase Entropy', 'Entropy', yerr=std_phrase_entropies)\n",
    "\n",
    "# 3. Total Song Entropy\n",
    "create_bar_plot(ax3, total_song_entropies, group_labels, \n",
    "                'Total Song Entropy', 'Entropy')\n",
    "\n",
    "plt.tight_layout()\n",
    "plt.show()\n",
    "\n",
    "# Print additional statistics\n",
    "print(\"Additional Statistics:\")\n",
    "for i, group in enumerate(groups):\n",
    "    print(f\"\\nGroup {group['group']}:\")\n",
    "    print(f\"  Mean Switching Time: {mean_switching_times[i]:.2f}\")\n",
    "    print(f\"  Mean Phrase Entropy: {mean_phrase_entropies[i]:.2f} ± {std_phrase_entropies[i]:.2f}\")\n",
    "    print(f\"  Total Song Entropy: {total_song_entropies[i]:.2f}\")\n",
    "    print(f\"  Number of Phrases: {len(group['transition_entropies'])}\")"
   ]
  }
 ],
 "metadata": {
  "kernelspec": {
   "display_name": "tweetybert",
   "language": "python",
   "name": "python3"
  },
  "language_info": {
   "codemirror_mode": {
    "name": "ipython",
    "version": 3
   },
   "file_extension": ".py",
   "mimetype": "text/x-python",
   "name": "python",
   "nbconvert_exporter": "python",
   "pygments_lexer": "ipython3",
   "version": "3.11.9"
  }
 },
 "nbformat": 4,
 "nbformat_minor": 2
}
