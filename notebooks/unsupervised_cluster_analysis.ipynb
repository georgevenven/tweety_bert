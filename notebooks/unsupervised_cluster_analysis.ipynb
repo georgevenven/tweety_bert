{
 "cells": [
  {
   "cell_type": "code",
   "execution_count": 1,
   "metadata": {},
   "outputs": [
    {
     "name": "stderr",
     "output_type": "stream",
     "text": [
      "/home/george-vengrovski/miniconda3/envs/tweetybert/lib/python3.12/site-packages/tqdm/auto.py:21: TqdmWarning: IProgress not found. Please update jupyter and ipywidgets. See https://ipywidgets.readthedocs.io/en/stable/user_install.html\n",
      "  from .autonotebook import tqdm as notebook_tqdm\n",
      "/home/george-vengrovski/miniconda3/envs/tweetybert/lib/python3.12/site-packages/numpy/core/_methods.py:206: RuntimeWarning: Degrees of freedom <= 0 for slice\n",
      "  ret = _var(a, axis=axis, dtype=dtype, out=out, ddof=ddof,\n",
      "/home/george-vengrovski/miniconda3/envs/tweetybert/lib/python3.12/site-packages/numpy/core/_methods.py:198: RuntimeWarning: invalid value encountered in scalar divide\n",
      "  ret = ret.dtype.type(ret / rcount)\n",
      "/home/george-vengrovski/miniconda3/envs/tweetybert/lib/python3.12/site-packages/numpy/core/_methods.py:206: RuntimeWarning: Degrees of freedom <= 0 for slice\n",
      "  ret = _var(a, axis=axis, dtype=dtype, out=out, ddof=ddof,\n",
      "/home/george-vengrovski/miniconda3/envs/tweetybert/lib/python3.12/site-packages/numpy/core/_methods.py:198: RuntimeWarning: invalid value encountered in scalar divide\n",
      "  ret = ret.dtype.type(ret / rcount)\n"
     ]
    },
    {
     "name": "stdout",
     "output_type": "stream",
     "text": [
      "(1000000, 2)\n"
     ]
    },
    {
     "ename": "NameError",
     "evalue": "name 'sX' is not defined",
     "output_type": "error",
     "traceback": [
      "\u001b[0;31m---------------------------------------------------------------------------\u001b[0m",
      "\u001b[0;31mNameError\u001b[0m                                 Traceback (most recent call last)",
      "Cell \u001b[0;32mIn[1], line 13\u001b[0m\n\u001b[1;32m     10\u001b[0m v_measure_score \u001b[38;5;241m=\u001b[39m cluster_performance\u001b[38;5;241m.\u001b[39mcompute_vmeasure_score()\n\u001b[1;32m     11\u001b[0m ari \u001b[38;5;241m=\u001b[39m cluster_performance\u001b[38;5;241m.\u001b[39mcompute_adjusted_rand_index()\n\u001b[0;32m---> 13\u001b[0m hopkins_stat \u001b[38;5;241m=\u001b[39m \u001b[43mcluster_performance\u001b[49m\u001b[38;5;241;43m.\u001b[39;49m\u001b[43mcompute_hopkins_statistic_from_file\u001b[49m\u001b[43m(\u001b[49m\u001b[43mfile_path\u001b[49m\u001b[43m \u001b[49m\u001b[38;5;241;43m=\u001b[39;49m\u001b[43m \u001b[49m\u001b[38;5;124;43m\"\u001b[39;49m\u001b[38;5;124;43m/media/george-vengrovski/Extreme SSD/labels/labels_llb3_preextracted_with_pitch_shift.npz\u001b[39;49m\u001b[38;5;124;43m\"\u001b[39;49m\u001b[43m)\u001b[49m\n\u001b[1;32m     15\u001b[0m \u001b[38;5;28mprint\u001b[39m(v_measure_score)\n\u001b[1;32m     16\u001b[0m \u001b[38;5;28mprint\u001b[39m(ari)\n",
      "File \u001b[0;32m~/Documents/tweety_bert/src/analysis.py:792\u001b[0m, in \u001b[0;36mComputerClusterPerformance.compute_hopkins_statistic_from_file\u001b[0;34m(self, file_path)\u001b[0m\n\u001b[1;32m    790\u001b[0m data \u001b[38;5;241m=\u001b[39m np\u001b[38;5;241m.\u001b[39mload(file_path)\n\u001b[1;32m    791\u001b[0m embedding_outputs \u001b[38;5;241m=\u001b[39m data[\u001b[38;5;124m'\u001b[39m\u001b[38;5;124membedding_outputs\u001b[39m\u001b[38;5;124m'\u001b[39m]\n\u001b[0;32m--> 792\u001b[0m \u001b[38;5;28;01mreturn\u001b[39;00m \u001b[38;5;28;43mself\u001b[39;49m\u001b[38;5;241;43m.\u001b[39;49m\u001b[43mcompute_hopkins_statistic\u001b[49m\u001b[43m(\u001b[49m\u001b[43membedding_outputs\u001b[49m\u001b[43m)\u001b[49m\n",
      "File \u001b[0;32m~/Documents/tweety_bert/src/analysis.py:760\u001b[0m, in \u001b[0;36mComputerClusterPerformance.compute_hopkins_statistic\u001b[0;34m(self, X)\u001b[0m\n\u001b[1;32m    757\u001b[0m X_m \u001b[38;5;241m=\u001b[39m X[random_indices]\n\u001b[1;32m    759\u001b[0m \u001b[38;5;66;03m# Generate m random points within the feature space\u001b[39;00m\n\u001b[0;32m--> 760\u001b[0m X_random \u001b[38;5;241m=\u001b[39m np\u001b[38;5;241m.\u001b[39mrandom\u001b[38;5;241m.\u001b[39muniform(np\u001b[38;5;241m.\u001b[39mmin(X, axis\u001b[38;5;241m=\u001b[39m\u001b[38;5;241m0\u001b[39m), np\u001b[38;5;241m.\u001b[39mmax(\u001b[43msX\u001b[49m, axis\u001b[38;5;241m=\u001b[39m\u001b[38;5;241m0\u001b[39m), (m, n_features))\n\u001b[1;32m    762\u001b[0m \u001b[38;5;66;03m# Nearest neighbors model\u001b[39;00m\n\u001b[1;32m    763\u001b[0m nbrs \u001b[38;5;241m=\u001b[39m NearestNeighbors(n_neighbors\u001b[38;5;241m=\u001b[39m\u001b[38;5;241m1\u001b[39m)\u001b[38;5;241m.\u001b[39mfit(X)\n",
      "\u001b[0;31mNameError\u001b[0m: name 'sX' is not defined"
     ]
    }
   ],
   "source": [
    "import sys\n",
    "import os\n",
    "\n",
    "sys.path.append(\"src\")\n",
    "os.chdir('/home/george-vengrovski/Documents/tweety_bert')\n",
    "\n",
    "from analysis import ComputerClusterPerformance, plot_metrics\n",
    "\n",
    "cluster_performance = ComputerClusterPerformance(labels_path = [\"/home/george-vengrovski/Documents/tweety_bert/files/labels_Yarden_LLB3_Whisperseg.npz\"])\n",
    "v_measure_score = cluster_performance.compute_vmeasure_score()\n",
    "ari = cluster_performance.compute_adjusted_rand_index()\n",
    "\n",
    "# hopkins_stat = cluster_performance.compute_hopkins_statistic_from_file(file_path = \"/media/george-vengrovski/Extreme SSD/labels/labels_llb3_preextracted_with_pitch_shift.npz\")\n",
    "\n",
    "print(v_measure_score)\n",
    "print(ari)\n",
    "# print(hopkins_stat)"
   ]
  }
 ],
 "metadata": {
  "kernelspec": {
   "display_name": "tweetybert",
   "language": "python",
   "name": "python3"
  },
  "language_info": {
   "codemirror_mode": {
    "name": "ipython",
    "version": 3
   },
   "file_extension": ".py",
   "mimetype": "text/x-python",
   "name": "python",
   "nbconvert_exporter": "python",
   "pygments_lexer": "ipython3",
   "version": "3.12.4"
  }
 },
 "nbformat": 4,
 "nbformat_minor": 2
}
