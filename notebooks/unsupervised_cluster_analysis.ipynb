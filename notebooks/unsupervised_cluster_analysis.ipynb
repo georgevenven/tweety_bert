{
 "cells": [
  {
   "cell_type": "code",
   "execution_count": 1,
   "metadata": {},
   "outputs": [
    {
     "name": "stderr",
     "output_type": "stream",
     "text": [
      "/home/george-vengrovski/miniconda3/envs/tweetybert/lib/python3.12/site-packages/tqdm/auto.py:21: TqdmWarning: IProgress not found. Please update jupyter and ipywidgets. See https://ipywidgets.readthedocs.io/en/stable/user_install.html\n",
      "  from .autonotebook import tqdm as notebook_tqdm\n"
     ]
    },
    {
     "name": "stdout",
     "output_type": "stream",
     "text": [
      "{'Homogeneity': (0.8901826525361813, nan), 'Completeness': (0.7692625752176433, nan), 'V-measure': (0.8253170255350445, nan)}\n",
      "{'Adjusted Rand Index': (0.8361397694868288, nan)}\n"
     ]
    },
    {
     "name": "stderr",
     "output_type": "stream",
     "text": [
      "/home/george-vengrovski/miniconda3/envs/tweetybert/lib/python3.12/site-packages/numpy/core/_methods.py:206: RuntimeWarning: Degrees of freedom <= 0 for slice\n",
      "  ret = _var(a, axis=axis, dtype=dtype, out=out, ddof=ddof,\n",
      "/home/george-vengrovski/miniconda3/envs/tweetybert/lib/python3.12/site-packages/numpy/core/_methods.py:198: RuntimeWarning: invalid value encountered in scalar divide\n",
      "  ret = ret.dtype.type(ret / rcount)\n",
      "/home/george-vengrovski/miniconda3/envs/tweetybert/lib/python3.12/site-packages/numpy/core/_methods.py:206: RuntimeWarning: Degrees of freedom <= 0 for slice\n",
      "  ret = _var(a, axis=axis, dtype=dtype, out=out, ddof=ddof,\n",
      "/home/george-vengrovski/miniconda3/envs/tweetybert/lib/python3.12/site-packages/numpy/core/_methods.py:198: RuntimeWarning: invalid value encountered in scalar divide\n",
      "  ret = ret.dtype.type(ret / rcount)\n"
     ]
    }
   ],
   "source": [
    "import sys\n",
    "import os\n",
    "\n",
    "sys.path.append(\"src\")\n",
    "os.chdir('/home/george-vengrovski/Documents/tweety_bert')\n",
    "\n",
    "from analysis import ComputerClusterPerformance, plot_metrics\n",
    "\n",
    "cluster_performance = ComputerClusterPerformance(labels_path = [\"/home/george-vengrovski/Documents/tweety_bert/files/labels_Yarden_LLB3_Whisperseg.npz\"])\n",
    "v_measure_score = cluster_performance.compute_vmeasure_score()\n",
    "ari = cluster_performance.compute_adjusted_rand_index()\n",
    "\n",
    "# hopkins_stat = cluster_performance.compute_hopkins_statistic_from_file(file_path = \"/media/george-vengrovski/Extreme SSD/labels/labels_llb3_preextracted_with_pitch_shift.npz\")\n",
    "\n",
    "print(v_measure_score)\n",
    "print(ari)\n",
    "# print(hopkins_stat)"
   ]
  }
 ],
 "metadata": {
  "kernelspec": {
   "display_name": "tweetybert",
   "language": "python",
   "name": "python3"
  },
  "language_info": {
   "codemirror_mode": {
    "name": "ipython",
    "version": 3
   },
   "file_extension": ".py",
   "mimetype": "text/x-python",
   "name": "python",
   "nbconvert_exporter": "python",
   "pygments_lexer": "ipython3",
   "version": "3.12.4"
  }
 },
 "nbformat": 4,
 "nbformat_minor": 2
}
