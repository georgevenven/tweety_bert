{
 "cells": [
  {
   "cell_type": "code",
   "execution_count": 3,
   "metadata": {},
   "outputs": [
    {
     "name": "stderr",
     "output_type": "stream",
     "text": [
      "/home/george-vengrovski/anaconda3/envs/tweetybert/lib/python3.11/site-packages/numpy/core/_methods.py:269: RuntimeWarning: Degrees of freedom <= 0 for slice\n",
      "  ret = _var(a, axis=axis, dtype=dtype, out=out, ddof=ddof,\n",
      "/home/george-vengrovski/anaconda3/envs/tweetybert/lib/python3.11/site-packages/numpy/core/_methods.py:261: RuntimeWarning: invalid value encountered in scalar divide\n",
      "  ret = ret.dtype.type(ret / rcount)\n"
     ]
    },
    {
     "name": "stdout",
     "output_type": "stream",
     "text": [
      "{'Homogeneity': (0.8309796800606497, nan), 'Completeness': (0.8469525203798607, nan), 'V-measure': (0.8388900746133219, nan)}\n",
      "{'Adjusted Rand Index': (0.6908024324059966, nan)}\n"
     ]
    },
    {
     "name": "stderr",
     "output_type": "stream",
     "text": [
      "/home/george-vengrovski/anaconda3/envs/tweetybert/lib/python3.11/site-packages/numpy/core/_methods.py:269: RuntimeWarning: Degrees of freedom <= 0 for slice\n",
      "  ret = _var(a, axis=axis, dtype=dtype, out=out, ddof=ddof,\n",
      "/home/george-vengrovski/anaconda3/envs/tweetybert/lib/python3.11/site-packages/numpy/core/_methods.py:261: RuntimeWarning: invalid value encountered in scalar divide\n",
      "  ret = ret.dtype.type(ret / rcount)\n"
     ]
    }
   ],
   "source": [
    "import sys\n",
    "import os\n",
    "\n",
    "sys.path.append(\"src\")\n",
    "os.chdir('/home/george-vengrovski/Documents/projects/tweety_bert_paper')\n",
    "\n",
    "from analysis import ComputerClusterPerformance, plot_metrics\n",
    "\n",
    "cluster_performance = ComputerClusterPerformance(labels_path = [\"/media/george-vengrovski/flash-drive/llb11.npz\"])\n",
    "v_measure_score = cluster_performance.compute_vmeasure_score()\n",
    "ari = cluster_performance.compute_adjusted_rand_index()\n",
    "\n",
    "# hopkins_stat = cluster_performance.compute_hopkins_statistic_from_file(file_path = \"/media/george-vengrovski/Extreme SSD/labels/labels_llb3_preextracted_with_pitch_shift.npz\")\n",
    "\n",
    "print(v_measure_score)\n",
    "print(ari)\n",
    "# print(hopkins_stat)"
   ]
  }
 ],
 "metadata": {
  "kernelspec": {
   "display_name": "tweetybert",
   "language": "python",
   "name": "python3"
  },
  "language_info": {
   "codemirror_mode": {
    "name": "ipython",
    "version": 3
   },
   "file_extension": ".py",
   "mimetype": "text/x-python",
   "name": "python",
   "nbconvert_exporter": "python",
   "pygments_lexer": "ipython3",
   "version": "3.11.9"
  }
 },
 "nbformat": 4,
 "nbformat_minor": 2
}
