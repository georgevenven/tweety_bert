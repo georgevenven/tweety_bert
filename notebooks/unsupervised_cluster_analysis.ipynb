{
 "cells": [
  {
   "cell_type": "code",
   "execution_count": 3,
   "metadata": {},
   "outputs": [
    {
     "name": "stderr",
     "output_type": "stream",
     "text": [
      "/home/george-vengrovski/anaconda3/envs/tweetybert/lib/python3.11/site-packages/numpy/core/_methods.py:269: RuntimeWarning: Degrees of freedom <= 0 for slice\n",
      "  ret = _var(a, axis=axis, dtype=dtype, out=out, ddof=ddof,\n",
      "/home/george-vengrovski/anaconda3/envs/tweetybert/lib/python3.11/site-packages/numpy/core/_methods.py:261: RuntimeWarning: invalid value encountered in scalar divide\n",
      "  ret = ret.dtype.type(ret / rcount)\n"
     ]
    },
    {
     "name": "stdout",
     "output_type": "stream",
     "text": [
      "{'Homogeneity': (1.0, nan), 'Completeness': (0.0, nan), 'V-measure': (0.0, nan)}\n",
      "{'Adjusted Rand Index': (0.0, nan)}\n"
     ]
    },
    {
     "name": "stderr",
     "output_type": "stream",
     "text": [
      "/home/george-vengrovski/anaconda3/envs/tweetybert/lib/python3.11/site-packages/numpy/core/_methods.py:269: RuntimeWarning: Degrees of freedom <= 0 for slice\n",
      "  ret = _var(a, axis=axis, dtype=dtype, out=out, ddof=ddof,\n",
      "/home/george-vengrovski/anaconda3/envs/tweetybert/lib/python3.11/site-packages/numpy/core/_methods.py:261: RuntimeWarning: invalid value encountered in scalar divide\n",
      "  ret = ret.dtype.type(ret / rcount)\n"
     ]
    }
   ],
   "source": [
    "import sys\n",
    "import os\n",
    "\n",
    "sys.path.append(\"src\")\n",
    "os.chdir('/home/george-vengrovski/Documents/projects/tweety_bert_paper')\n",
    "\n",
    "from analysis import ComputerClusterPerformance, plot_metrics\n",
    "\n",
    "cluster_performance = ComputerClusterPerformance(labels_path = [\"/media/george-vengrovski/flash-drive/llb16_for_paper.npz\"])\n",
    "v_measure_score = cluster_performance.compute_vmeasure_score()\n",
    "ari = cluster_performance.compute_adjusted_rand_index()\n",
    "\n",
    "# hopkins_stat = cluster_performance.compute_hopkins_statistic_from_file(file_path = \"/media/george-vengrovski/Extreme SSD/labels/labels_llb3_preextracted_with_pitch_shift.npz\")\n",
    "\n",
    "print(v_measure_score)\n",
    "print(ari)\n",
    "# print(hopkins_stat)"
   ]
  },
  {
   "cell_type": "code",
   "execution_count": 4,
   "metadata": {},
   "outputs": [
    {
     "name": "stdout",
     "output_type": "stream",
     "text": [
      "Error processing file files/llb3_fold7_pca_128_cluster_1000.npz: File is not a zip file\n"
     ]
    },
    {
     "name": "stderr",
     "output_type": "stream",
     "text": [
      "/home/george-vengrovski/anaconda3/envs/tweetybert/lib/python3.11/site-packages/numpy/core/_methods.py:269: RuntimeWarning: Degrees of freedom <= 0 for slice\n",
      "  ret = _var(a, axis=axis, dtype=dtype, out=out, ddof=ddof,\n",
      "/home/george-vengrovski/anaconda3/envs/tweetybert/lib/python3.11/site-packages/numpy/core/_methods.py:261: RuntimeWarning: invalid value encountered in scalar divide\n",
      "  ret = ret.dtype.type(ret / rcount)\n"
     ]
    },
    {
     "name": "stdout",
     "output_type": "stream",
     "text": [
      "File: files/llb3_fold7_pca_128_cluster_900.npz\n",
      "V-score type: <class 'dict'>\n",
      "V-score value: {'Homogeneity': (0.8625522835065047, nan), 'Completeness': (0.8163391980970248, nan), 'V-measure': (0.8388097112291374, nan)}\n"
     ]
    },
    {
     "name": "stderr",
     "output_type": "stream",
     "text": [
      "/home/george-vengrovski/anaconda3/envs/tweetybert/lib/python3.11/site-packages/numpy/core/_methods.py:269: RuntimeWarning: Degrees of freedom <= 0 for slice\n",
      "  ret = _var(a, axis=axis, dtype=dtype, out=out, ddof=ddof,\n",
      "/home/george-vengrovski/anaconda3/envs/tweetybert/lib/python3.11/site-packages/numpy/core/_methods.py:261: RuntimeWarning: invalid value encountered in scalar divide\n",
      "  ret = ret.dtype.type(ret / rcount)\n"
     ]
    },
    {
     "name": "stdout",
     "output_type": "stream",
     "text": [
      "File: files/llb3_fold7_pca_128_cluster_800.npz\n",
      "V-score type: <class 'dict'>\n",
      "V-score value: {'Homogeneity': (0.8680740893855772, nan), 'Completeness': (0.8242826751859678, nan), 'V-measure': (0.8456118090909984, nan)}\n"
     ]
    },
    {
     "name": "stderr",
     "output_type": "stream",
     "text": [
      "/home/george-vengrovski/anaconda3/envs/tweetybert/lib/python3.11/site-packages/numpy/core/_methods.py:269: RuntimeWarning: Degrees of freedom <= 0 for slice\n",
      "  ret = _var(a, axis=axis, dtype=dtype, out=out, ddof=ddof,\n",
      "/home/george-vengrovski/anaconda3/envs/tweetybert/lib/python3.11/site-packages/numpy/core/_methods.py:261: RuntimeWarning: invalid value encountered in scalar divide\n",
      "  ret = ret.dtype.type(ret / rcount)\n"
     ]
    },
    {
     "name": "stdout",
     "output_type": "stream",
     "text": [
      "File: files/llb3_fold7_pca_128_cluster_700.npz\n",
      "V-score type: <class 'dict'>\n",
      "V-score value: {'Homogeneity': (0.838572908985863, nan), 'Completeness': (0.8298645670438536, nan), 'V-measure': (0.8341960115955384, nan)}\n"
     ]
    },
    {
     "name": "stderr",
     "output_type": "stream",
     "text": [
      "/home/george-vengrovski/anaconda3/envs/tweetybert/lib/python3.11/site-packages/numpy/core/_methods.py:269: RuntimeWarning: Degrees of freedom <= 0 for slice\n",
      "  ret = _var(a, axis=axis, dtype=dtype, out=out, ddof=ddof,\n",
      "/home/george-vengrovski/anaconda3/envs/tweetybert/lib/python3.11/site-packages/numpy/core/_methods.py:261: RuntimeWarning: invalid value encountered in scalar divide\n",
      "  ret = ret.dtype.type(ret / rcount)\n"
     ]
    },
    {
     "name": "stdout",
     "output_type": "stream",
     "text": [
      "File: files/llb3_fold7_pca_128_cluster_600.npz\n",
      "V-score type: <class 'dict'>\n",
      "V-score value: {'Homogeneity': (0.8351803031460157, nan), 'Completeness': (0.8175079334405186, nan), 'V-measure': (0.8262496320362424, nan)}\n"
     ]
    },
    {
     "name": "stderr",
     "output_type": "stream",
     "text": [
      "/home/george-vengrovski/anaconda3/envs/tweetybert/lib/python3.11/site-packages/numpy/core/_methods.py:269: RuntimeWarning: Degrees of freedom <= 0 for slice\n",
      "  ret = _var(a, axis=axis, dtype=dtype, out=out, ddof=ddof,\n",
      "/home/george-vengrovski/anaconda3/envs/tweetybert/lib/python3.11/site-packages/numpy/core/_methods.py:261: RuntimeWarning: invalid value encountered in scalar divide\n",
      "  ret = ret.dtype.type(ret / rcount)\n"
     ]
    },
    {
     "name": "stdout",
     "output_type": "stream",
     "text": [
      "File: files/llb3_fold7_pca_128_cluster_500.npz\n",
      "V-score type: <class 'dict'>\n",
      "V-score value: {'Homogeneity': (0.8385254617010202, nan), 'Completeness': (0.835318933141558, nan), 'V-measure': (0.8369191261007308, nan)}\n"
     ]
    },
    {
     "name": "stderr",
     "output_type": "stream",
     "text": [
      "/home/george-vengrovski/anaconda3/envs/tweetybert/lib/python3.11/site-packages/numpy/core/_methods.py:269: RuntimeWarning: Degrees of freedom <= 0 for slice\n",
      "  ret = _var(a, axis=axis, dtype=dtype, out=out, ddof=ddof,\n",
      "/home/george-vengrovski/anaconda3/envs/tweetybert/lib/python3.11/site-packages/numpy/core/_methods.py:261: RuntimeWarning: invalid value encountered in scalar divide\n",
      "  ret = ret.dtype.type(ret / rcount)\n"
     ]
    },
    {
     "name": "stdout",
     "output_type": "stream",
     "text": [
      "File: files/llb3_fold7_pca_128_cluster_400.npz\n",
      "V-score type: <class 'dict'>\n",
      "V-score value: {'Homogeneity': (0.8420245115346471, nan), 'Completeness': (0.8332114370080349, nan), 'V-measure': (0.8375947923778653, nan)}\n"
     ]
    },
    {
     "name": "stderr",
     "output_type": "stream",
     "text": [
      "/home/george-vengrovski/anaconda3/envs/tweetybert/lib/python3.11/site-packages/numpy/core/_methods.py:269: RuntimeWarning: Degrees of freedom <= 0 for slice\n",
      "  ret = _var(a, axis=axis, dtype=dtype, out=out, ddof=ddof,\n",
      "/home/george-vengrovski/anaconda3/envs/tweetybert/lib/python3.11/site-packages/numpy/core/_methods.py:261: RuntimeWarning: invalid value encountered in scalar divide\n",
      "  ret = ret.dtype.type(ret / rcount)\n"
     ]
    },
    {
     "name": "stdout",
     "output_type": "stream",
     "text": [
      "File: files/llb3_fold7_pca_128_cluster_300.npz\n",
      "V-score type: <class 'dict'>\n",
      "V-score value: {'Homogeneity': (0.8350372775760743, nan), 'Completeness': (0.8303885156934638, nan), 'V-measure': (0.8327064085080904, nan)}\n"
     ]
    },
    {
     "name": "stderr",
     "output_type": "stream",
     "text": [
      "/home/george-vengrovski/anaconda3/envs/tweetybert/lib/python3.11/site-packages/numpy/core/_methods.py:269: RuntimeWarning: Degrees of freedom <= 0 for slice\n",
      "  ret = _var(a, axis=axis, dtype=dtype, out=out, ddof=ddof,\n",
      "/home/george-vengrovski/anaconda3/envs/tweetybert/lib/python3.11/site-packages/numpy/core/_methods.py:261: RuntimeWarning: invalid value encountered in scalar divide\n",
      "  ret = ret.dtype.type(ret / rcount)\n"
     ]
    },
    {
     "name": "stdout",
     "output_type": "stream",
     "text": [
      "File: files/llb3_fold7_pca_64_cluster_1000.npz\n",
      "V-score type: <class 'dict'>\n",
      "V-score value: {'Homogeneity': (0.8540588790395923, nan), 'Completeness': (0.8209002618617428, nan), 'V-measure': (0.8371513553120715, nan)}\n"
     ]
    },
    {
     "name": "stderr",
     "output_type": "stream",
     "text": [
      "/home/george-vengrovski/anaconda3/envs/tweetybert/lib/python3.11/site-packages/numpy/core/_methods.py:269: RuntimeWarning: Degrees of freedom <= 0 for slice\n",
      "  ret = _var(a, axis=axis, dtype=dtype, out=out, ddof=ddof,\n",
      "/home/george-vengrovski/anaconda3/envs/tweetybert/lib/python3.11/site-packages/numpy/core/_methods.py:261: RuntimeWarning: invalid value encountered in scalar divide\n",
      "  ret = ret.dtype.type(ret / rcount)\n"
     ]
    },
    {
     "name": "stdout",
     "output_type": "stream",
     "text": [
      "File: files/llb3_fold7_pca_64_cluster_900.npz\n",
      "V-score type: <class 'dict'>\n",
      "V-score value: {'Homogeneity': (0.8258454693780591, nan), 'Completeness': (0.8145447394153942, nan), 'V-measure': (0.8201561787505589, nan)}\n"
     ]
    },
    {
     "name": "stderr",
     "output_type": "stream",
     "text": [
      "/home/george-vengrovski/anaconda3/envs/tweetybert/lib/python3.11/site-packages/numpy/core/_methods.py:269: RuntimeWarning: Degrees of freedom <= 0 for slice\n",
      "  ret = _var(a, axis=axis, dtype=dtype, out=out, ddof=ddof,\n",
      "/home/george-vengrovski/anaconda3/envs/tweetybert/lib/python3.11/site-packages/numpy/core/_methods.py:261: RuntimeWarning: invalid value encountered in scalar divide\n",
      "  ret = ret.dtype.type(ret / rcount)\n"
     ]
    },
    {
     "name": "stdout",
     "output_type": "stream",
     "text": [
      "File: files/llb3_fold7_pca_64_cluster_800.npz\n",
      "V-score type: <class 'dict'>\n",
      "V-score value: {'Homogeneity': (0.8508625845518695, nan), 'Completeness': (0.8103663953742739, nan), 'V-measure': (0.8301208971598748, nan)}\n"
     ]
    },
    {
     "name": "stderr",
     "output_type": "stream",
     "text": [
      "/home/george-vengrovski/anaconda3/envs/tweetybert/lib/python3.11/site-packages/numpy/core/_methods.py:269: RuntimeWarning: Degrees of freedom <= 0 for slice\n",
      "  ret = _var(a, axis=axis, dtype=dtype, out=out, ddof=ddof,\n",
      "/home/george-vengrovski/anaconda3/envs/tweetybert/lib/python3.11/site-packages/numpy/core/_methods.py:261: RuntimeWarning: invalid value encountered in scalar divide\n",
      "  ret = ret.dtype.type(ret / rcount)\n"
     ]
    },
    {
     "name": "stdout",
     "output_type": "stream",
     "text": [
      "File: files/llb3_fold7_pca_64_cluster_700.npz\n",
      "V-score type: <class 'dict'>\n",
      "V-score value: {'Homogeneity': (0.8327935497289748, nan), 'Completeness': (0.8214579182501031, nan), 'V-measure': (0.8270868957163042, nan)}\n"
     ]
    },
    {
     "name": "stderr",
     "output_type": "stream",
     "text": [
      "/home/george-vengrovski/anaconda3/envs/tweetybert/lib/python3.11/site-packages/numpy/core/_methods.py:269: RuntimeWarning: Degrees of freedom <= 0 for slice\n",
      "  ret = _var(a, axis=axis, dtype=dtype, out=out, ddof=ddof,\n",
      "/home/george-vengrovski/anaconda3/envs/tweetybert/lib/python3.11/site-packages/numpy/core/_methods.py:261: RuntimeWarning: invalid value encountered in scalar divide\n",
      "  ret = ret.dtype.type(ret / rcount)\n"
     ]
    },
    {
     "name": "stdout",
     "output_type": "stream",
     "text": [
      "File: files/llb3_fold7_pca_64_cluster_600.npz\n",
      "V-score type: <class 'dict'>\n",
      "V-score value: {'Homogeneity': (0.8209394023248572, nan), 'Completeness': (0.8223020537788033, nan), 'V-measure': (0.821620163065176, nan)}\n"
     ]
    },
    {
     "name": "stderr",
     "output_type": "stream",
     "text": [
      "/home/george-vengrovski/anaconda3/envs/tweetybert/lib/python3.11/site-packages/numpy/core/_methods.py:269: RuntimeWarning: Degrees of freedom <= 0 for slice\n",
      "  ret = _var(a, axis=axis, dtype=dtype, out=out, ddof=ddof,\n",
      "/home/george-vengrovski/anaconda3/envs/tweetybert/lib/python3.11/site-packages/numpy/core/_methods.py:261: RuntimeWarning: invalid value encountered in scalar divide\n",
      "  ret = ret.dtype.type(ret / rcount)\n"
     ]
    },
    {
     "name": "stdout",
     "output_type": "stream",
     "text": [
      "File: files/llb3_fold7_pca_64_cluster_500.npz\n",
      "V-score type: <class 'dict'>\n",
      "V-score value: {'Homogeneity': (0.8253763109521237, nan), 'Completeness': (0.8232668655962224, nan), 'V-measure': (0.8243202387524049, nan)}\n"
     ]
    },
    {
     "name": "stderr",
     "output_type": "stream",
     "text": [
      "/home/george-vengrovski/anaconda3/envs/tweetybert/lib/python3.11/site-packages/numpy/core/_methods.py:269: RuntimeWarning: Degrees of freedom <= 0 for slice\n",
      "  ret = _var(a, axis=axis, dtype=dtype, out=out, ddof=ddof,\n",
      "/home/george-vengrovski/anaconda3/envs/tweetybert/lib/python3.11/site-packages/numpy/core/_methods.py:261: RuntimeWarning: invalid value encountered in scalar divide\n",
      "  ret = ret.dtype.type(ret / rcount)\n"
     ]
    },
    {
     "name": "stdout",
     "output_type": "stream",
     "text": [
      "File: files/llb3_fold7_pca_64_cluster_400.npz\n",
      "V-score type: <class 'dict'>\n",
      "V-score value: {'Homogeneity': (0.8469770672074263, nan), 'Completeness': (0.8387007803783465, nan), 'V-measure': (0.8428186064695689, nan)}\n"
     ]
    },
    {
     "name": "stderr",
     "output_type": "stream",
     "text": [
      "/home/george-vengrovski/anaconda3/envs/tweetybert/lib/python3.11/site-packages/numpy/core/_methods.py:269: RuntimeWarning: Degrees of freedom <= 0 for slice\n",
      "  ret = _var(a, axis=axis, dtype=dtype, out=out, ddof=ddof,\n",
      "/home/george-vengrovski/anaconda3/envs/tweetybert/lib/python3.11/site-packages/numpy/core/_methods.py:261: RuntimeWarning: invalid value encountered in scalar divide\n",
      "  ret = ret.dtype.type(ret / rcount)\n"
     ]
    },
    {
     "name": "stdout",
     "output_type": "stream",
     "text": [
      "File: files/llb3_fold7_pca_64_cluster_300.npz\n",
      "V-score type: <class 'dict'>\n",
      "V-score value: {'Homogeneity': (0.8369338291589109, nan), 'Completeness': (0.8356864342614161, nan), 'V-measure': (0.836309666573496, nan)}\n"
     ]
    },
    {
     "name": "stderr",
     "output_type": "stream",
     "text": [
      "/home/george-vengrovski/anaconda3/envs/tweetybert/lib/python3.11/site-packages/numpy/core/_methods.py:269: RuntimeWarning: Degrees of freedom <= 0 for slice\n",
      "  ret = _var(a, axis=axis, dtype=dtype, out=out, ddof=ddof,\n",
      "/home/george-vengrovski/anaconda3/envs/tweetybert/lib/python3.11/site-packages/numpy/core/_methods.py:261: RuntimeWarning: invalid value encountered in scalar divide\n",
      "  ret = ret.dtype.type(ret / rcount)\n"
     ]
    },
    {
     "name": "stdout",
     "output_type": "stream",
     "text": [
      "File: files/llb3_fold6_pca_128_cluster_1000.npz\n",
      "V-score type: <class 'dict'>\n",
      "V-score value: {'Homogeneity': (0.8747388072619311, nan), 'Completeness': (0.7992073966535285, nan), 'V-measure': (0.8352690466018435, nan)}\n"
     ]
    },
    {
     "name": "stderr",
     "output_type": "stream",
     "text": [
      "/home/george-vengrovski/anaconda3/envs/tweetybert/lib/python3.11/site-packages/numpy/core/_methods.py:269: RuntimeWarning: Degrees of freedom <= 0 for slice\n",
      "  ret = _var(a, axis=axis, dtype=dtype, out=out, ddof=ddof,\n",
      "/home/george-vengrovski/anaconda3/envs/tweetybert/lib/python3.11/site-packages/numpy/core/_methods.py:261: RuntimeWarning: invalid value encountered in scalar divide\n",
      "  ret = ret.dtype.type(ret / rcount)\n"
     ]
    },
    {
     "name": "stdout",
     "output_type": "stream",
     "text": [
      "File: files/llb3_fold6_pca_128_cluster_900.npz\n",
      "V-score type: <class 'dict'>\n",
      "V-score value: {'Homogeneity': (0.8691826613922999, nan), 'Completeness': (0.8092802477618574, nan), 'V-measure': (0.8381625304027098, nan)}\n"
     ]
    },
    {
     "name": "stderr",
     "output_type": "stream",
     "text": [
      "/home/george-vengrovski/anaconda3/envs/tweetybert/lib/python3.11/site-packages/numpy/core/_methods.py:269: RuntimeWarning: Degrees of freedom <= 0 for slice\n",
      "  ret = _var(a, axis=axis, dtype=dtype, out=out, ddof=ddof,\n",
      "/home/george-vengrovski/anaconda3/envs/tweetybert/lib/python3.11/site-packages/numpy/core/_methods.py:261: RuntimeWarning: invalid value encountered in scalar divide\n",
      "  ret = ret.dtype.type(ret / rcount)\n"
     ]
    },
    {
     "name": "stdout",
     "output_type": "stream",
     "text": [
      "File: files/llb3_fold6_pca_128_cluster_800.npz\n",
      "V-score type: <class 'dict'>\n",
      "V-score value: {'Homogeneity': (0.8763927390270272, nan), 'Completeness': (0.8000281261492382, nan), 'V-measure': (0.8364711455686522, nan)}\n"
     ]
    },
    {
     "name": "stderr",
     "output_type": "stream",
     "text": [
      "/home/george-vengrovski/anaconda3/envs/tweetybert/lib/python3.11/site-packages/numpy/core/_methods.py:269: RuntimeWarning: Degrees of freedom <= 0 for slice\n",
      "  ret = _var(a, axis=axis, dtype=dtype, out=out, ddof=ddof,\n",
      "/home/george-vengrovski/anaconda3/envs/tweetybert/lib/python3.11/site-packages/numpy/core/_methods.py:261: RuntimeWarning: invalid value encountered in scalar divide\n",
      "  ret = ret.dtype.type(ret / rcount)\n"
     ]
    },
    {
     "name": "stdout",
     "output_type": "stream",
     "text": [
      "File: files/llb3_fold6_pca_128_cluster_700.npz\n",
      "V-score type: <class 'dict'>\n",
      "V-score value: {'Homogeneity': (0.8688881501232806, nan), 'Completeness': (0.8065564194979419, nan), 'V-measure': (0.8365628180299144, nan)}\n"
     ]
    },
    {
     "name": "stderr",
     "output_type": "stream",
     "text": [
      "/home/george-vengrovski/anaconda3/envs/tweetybert/lib/python3.11/site-packages/numpy/core/_methods.py:269: RuntimeWarning: Degrees of freedom <= 0 for slice\n",
      "  ret = _var(a, axis=axis, dtype=dtype, out=out, ddof=ddof,\n",
      "/home/george-vengrovski/anaconda3/envs/tweetybert/lib/python3.11/site-packages/numpy/core/_methods.py:261: RuntimeWarning: invalid value encountered in scalar divide\n",
      "  ret = ret.dtype.type(ret / rcount)\n"
     ]
    },
    {
     "name": "stdout",
     "output_type": "stream",
     "text": [
      "File: files/llb3_fold6_pca_128_cluster_600.npz\n",
      "V-score type: <class 'dict'>\n",
      "V-score value: {'Homogeneity': (0.8604968768895597, nan), 'Completeness': (0.8334560291810287, nan), 'V-measure': (0.8467606242946676, nan)}\n"
     ]
    },
    {
     "name": "stderr",
     "output_type": "stream",
     "text": [
      "/home/george-vengrovski/anaconda3/envs/tweetybert/lib/python3.11/site-packages/numpy/core/_methods.py:269: RuntimeWarning: Degrees of freedom <= 0 for slice\n",
      "  ret = _var(a, axis=axis, dtype=dtype, out=out, ddof=ddof,\n",
      "/home/george-vengrovski/anaconda3/envs/tweetybert/lib/python3.11/site-packages/numpy/core/_methods.py:261: RuntimeWarning: invalid value encountered in scalar divide\n",
      "  ret = ret.dtype.type(ret / rcount)\n"
     ]
    },
    {
     "name": "stdout",
     "output_type": "stream",
     "text": [
      "File: files/llb3_fold6_pca_128_cluster_500.npz\n",
      "V-score type: <class 'dict'>\n",
      "V-score value: {'Homogeneity': (0.868336320885264, nan), 'Completeness': (0.8245238364164298, nan), 'V-measure': (0.845863128750392, nan)}\n"
     ]
    },
    {
     "name": "stderr",
     "output_type": "stream",
     "text": [
      "/home/george-vengrovski/anaconda3/envs/tweetybert/lib/python3.11/site-packages/numpy/core/_methods.py:269: RuntimeWarning: Degrees of freedom <= 0 for slice\n",
      "  ret = _var(a, axis=axis, dtype=dtype, out=out, ddof=ddof,\n",
      "/home/george-vengrovski/anaconda3/envs/tweetybert/lib/python3.11/site-packages/numpy/core/_methods.py:261: RuntimeWarning: invalid value encountered in scalar divide\n",
      "  ret = ret.dtype.type(ret / rcount)\n"
     ]
    },
    {
     "name": "stdout",
     "output_type": "stream",
     "text": [
      "File: files/llb3_fold6_pca_128_cluster_400.npz\n",
      "V-score type: <class 'dict'>\n",
      "V-score value: {'Homogeneity': (0.8652099088936815, nan), 'Completeness': (0.8364145027303062, nan), 'V-measure': (0.8505685634986697, nan)}\n"
     ]
    },
    {
     "name": "stderr",
     "output_type": "stream",
     "text": [
      "/home/george-vengrovski/anaconda3/envs/tweetybert/lib/python3.11/site-packages/numpy/core/_methods.py:269: RuntimeWarning: Degrees of freedom <= 0 for slice\n",
      "  ret = _var(a, axis=axis, dtype=dtype, out=out, ddof=ddof,\n",
      "/home/george-vengrovski/anaconda3/envs/tweetybert/lib/python3.11/site-packages/numpy/core/_methods.py:261: RuntimeWarning: invalid value encountered in scalar divide\n",
      "  ret = ret.dtype.type(ret / rcount)\n"
     ]
    },
    {
     "name": "stdout",
     "output_type": "stream",
     "text": [
      "File: files/llb3_fold6_pca_128_cluster_300.npz\n",
      "V-score type: <class 'dict'>\n",
      "V-score value: {'Homogeneity': (0.8597541928936733, nan), 'Completeness': (0.8281790911871828, nan), 'V-measure': (0.8436713142993443, nan)}\n"
     ]
    },
    {
     "name": "stderr",
     "output_type": "stream",
     "text": [
      "/home/george-vengrovski/anaconda3/envs/tweetybert/lib/python3.11/site-packages/numpy/core/_methods.py:269: RuntimeWarning: Degrees of freedom <= 0 for slice\n",
      "  ret = _var(a, axis=axis, dtype=dtype, out=out, ddof=ddof,\n",
      "/home/george-vengrovski/anaconda3/envs/tweetybert/lib/python3.11/site-packages/numpy/core/_methods.py:261: RuntimeWarning: invalid value encountered in scalar divide\n",
      "  ret = ret.dtype.type(ret / rcount)\n"
     ]
    },
    {
     "name": "stdout",
     "output_type": "stream",
     "text": [
      "File: files/llb3_fold6_pca_64_cluster_1000.npz\n",
      "V-score type: <class 'dict'>\n",
      "V-score value: {'Homogeneity': (0.8690473321477166, nan), 'Completeness': (0.8001155669188319, nan), 'V-measure': (0.8331581048554638, nan)}\n"
     ]
    },
    {
     "name": "stderr",
     "output_type": "stream",
     "text": [
      "/home/george-vengrovski/anaconda3/envs/tweetybert/lib/python3.11/site-packages/numpy/core/_methods.py:269: RuntimeWarning: Degrees of freedom <= 0 for slice\n",
      "  ret = _var(a, axis=axis, dtype=dtype, out=out, ddof=ddof,\n",
      "/home/george-vengrovski/anaconda3/envs/tweetybert/lib/python3.11/site-packages/numpy/core/_methods.py:261: RuntimeWarning: invalid value encountered in scalar divide\n",
      "  ret = ret.dtype.type(ret / rcount)\n"
     ]
    },
    {
     "name": "stdout",
     "output_type": "stream",
     "text": [
      "File: files/llb3_fold6_pca_64_cluster_900.npz\n",
      "V-score type: <class 'dict'>\n",
      "V-score value: {'Homogeneity': (0.8757807839740287, nan), 'Completeness': (0.8052837905088486, nan), 'V-measure': (0.8390541090194157, nan)}\n"
     ]
    },
    {
     "name": "stderr",
     "output_type": "stream",
     "text": [
      "/home/george-vengrovski/anaconda3/envs/tweetybert/lib/python3.11/site-packages/numpy/core/_methods.py:269: RuntimeWarning: Degrees of freedom <= 0 for slice\n",
      "  ret = _var(a, axis=axis, dtype=dtype, out=out, ddof=ddof,\n",
      "/home/george-vengrovski/anaconda3/envs/tweetybert/lib/python3.11/site-packages/numpy/core/_methods.py:261: RuntimeWarning: invalid value encountered in scalar divide\n",
      "  ret = ret.dtype.type(ret / rcount)\n"
     ]
    },
    {
     "name": "stdout",
     "output_type": "stream",
     "text": [
      "File: files/llb3_fold6_pca_64_cluster_800.npz\n",
      "V-score type: <class 'dict'>\n",
      "V-score value: {'Homogeneity': (0.8698248653140376, nan), 'Completeness': (0.8030512012353069, nan), 'V-measure': (0.8351053815906487, nan)}\n"
     ]
    },
    {
     "name": "stderr",
     "output_type": "stream",
     "text": [
      "/home/george-vengrovski/anaconda3/envs/tweetybert/lib/python3.11/site-packages/numpy/core/_methods.py:269: RuntimeWarning: Degrees of freedom <= 0 for slice\n",
      "  ret = _var(a, axis=axis, dtype=dtype, out=out, ddof=ddof,\n",
      "/home/george-vengrovski/anaconda3/envs/tweetybert/lib/python3.11/site-packages/numpy/core/_methods.py:261: RuntimeWarning: invalid value encountered in scalar divide\n",
      "  ret = ret.dtype.type(ret / rcount)\n"
     ]
    },
    {
     "name": "stdout",
     "output_type": "stream",
     "text": [
      "File: files/llb3_fold6_pca_64_cluster_700.npz\n",
      "V-score type: <class 'dict'>\n",
      "V-score value: {'Homogeneity': (0.8547388046025822, nan), 'Completeness': (0.8283344988843573, nan), 'V-measure': (0.8413295343948026, nan)}\n"
     ]
    },
    {
     "name": "stderr",
     "output_type": "stream",
     "text": [
      "/home/george-vengrovski/anaconda3/envs/tweetybert/lib/python3.11/site-packages/numpy/core/_methods.py:269: RuntimeWarning: Degrees of freedom <= 0 for slice\n",
      "  ret = _var(a, axis=axis, dtype=dtype, out=out, ddof=ddof,\n",
      "/home/george-vengrovski/anaconda3/envs/tweetybert/lib/python3.11/site-packages/numpy/core/_methods.py:261: RuntimeWarning: invalid value encountered in scalar divide\n",
      "  ret = ret.dtype.type(ret / rcount)\n"
     ]
    },
    {
     "name": "stdout",
     "output_type": "stream",
     "text": [
      "File: files/llb3_fold6_pca_64_cluster_600.npz\n",
      "V-score type: <class 'dict'>\n",
      "V-score value: {'Homogeneity': (0.8682509715116159, nan), 'Completeness': (0.821408586572462, nan), 'V-measure': (0.8441804739745508, nan)}\n"
     ]
    },
    {
     "name": "stderr",
     "output_type": "stream",
     "text": [
      "/home/george-vengrovski/anaconda3/envs/tweetybert/lib/python3.11/site-packages/numpy/core/_methods.py:269: RuntimeWarning: Degrees of freedom <= 0 for slice\n",
      "  ret = _var(a, axis=axis, dtype=dtype, out=out, ddof=ddof,\n",
      "/home/george-vengrovski/anaconda3/envs/tweetybert/lib/python3.11/site-packages/numpy/core/_methods.py:261: RuntimeWarning: invalid value encountered in scalar divide\n",
      "  ret = ret.dtype.type(ret / rcount)\n"
     ]
    },
    {
     "name": "stdout",
     "output_type": "stream",
     "text": [
      "File: files/llb3_fold6_pca_64_cluster_500.npz\n",
      "V-score type: <class 'dict'>\n",
      "V-score value: {'Homogeneity': (0.8665579674041496, nan), 'Completeness': (0.836449411563017, nan), 'V-measure': (0.8512375352830689, nan)}\n"
     ]
    },
    {
     "name": "stderr",
     "output_type": "stream",
     "text": [
      "/home/george-vengrovski/anaconda3/envs/tweetybert/lib/python3.11/site-packages/numpy/core/_methods.py:269: RuntimeWarning: Degrees of freedom <= 0 for slice\n",
      "  ret = _var(a, axis=axis, dtype=dtype, out=out, ddof=ddof,\n",
      "/home/george-vengrovski/anaconda3/envs/tweetybert/lib/python3.11/site-packages/numpy/core/_methods.py:261: RuntimeWarning: invalid value encountered in scalar divide\n",
      "  ret = ret.dtype.type(ret / rcount)\n"
     ]
    },
    {
     "name": "stdout",
     "output_type": "stream",
     "text": [
      "File: files/llb3_fold6_pca_64_cluster_300.npz\n",
      "V-score type: <class 'dict'>\n",
      "V-score value: {'Homogeneity': (0.8648852618352422, nan), 'Completeness': (0.8180997520626753, nan), 'V-measure': (0.8408422088457066, nan)}\n"
     ]
    },
    {
     "name": "stderr",
     "output_type": "stream",
     "text": [
      "/home/george-vengrovski/anaconda3/envs/tweetybert/lib/python3.11/site-packages/numpy/core/_methods.py:269: RuntimeWarning: Degrees of freedom <= 0 for slice\n",
      "  ret = _var(a, axis=axis, dtype=dtype, out=out, ddof=ddof,\n",
      "/home/george-vengrovski/anaconda3/envs/tweetybert/lib/python3.11/site-packages/numpy/core/_methods.py:261: RuntimeWarning: invalid value encountered in scalar divide\n",
      "  ret = ret.dtype.type(ret / rcount)\n"
     ]
    },
    {
     "name": "stdout",
     "output_type": "stream",
     "text": [
      "File: files/llb3_fold5_pca_128_cluster_700.npz\n",
      "V-score type: <class 'dict'>\n",
      "V-score value: {'Homogeneity': (0.856338298379523, nan), 'Completeness': (0.8104506861032054, nan), 'V-measure': (0.8327628367108727, nan)}\n"
     ]
    },
    {
     "name": "stderr",
     "output_type": "stream",
     "text": [
      "/home/george-vengrovski/anaconda3/envs/tweetybert/lib/python3.11/site-packages/numpy/core/_methods.py:269: RuntimeWarning: Degrees of freedom <= 0 for slice\n",
      "  ret = _var(a, axis=axis, dtype=dtype, out=out, ddof=ddof,\n",
      "/home/george-vengrovski/anaconda3/envs/tweetybert/lib/python3.11/site-packages/numpy/core/_methods.py:261: RuntimeWarning: invalid value encountered in scalar divide\n",
      "  ret = ret.dtype.type(ret / rcount)\n"
     ]
    },
    {
     "name": "stdout",
     "output_type": "stream",
     "text": [
      "File: files/llb3_fold5_pca_128_cluster_500.npz\n",
      "V-score type: <class 'dict'>\n",
      "V-score value: {'Homogeneity': (0.8426086452639204, nan), 'Completeness': (0.8300010678703001, nan), 'V-measure': (0.8362573406981996, nan)}\n"
     ]
    },
    {
     "name": "stderr",
     "output_type": "stream",
     "text": [
      "/home/george-vengrovski/anaconda3/envs/tweetybert/lib/python3.11/site-packages/numpy/core/_methods.py:269: RuntimeWarning: Degrees of freedom <= 0 for slice\n",
      "  ret = _var(a, axis=axis, dtype=dtype, out=out, ddof=ddof,\n",
      "/home/george-vengrovski/anaconda3/envs/tweetybert/lib/python3.11/site-packages/numpy/core/_methods.py:261: RuntimeWarning: invalid value encountered in scalar divide\n",
      "  ret = ret.dtype.type(ret / rcount)\n"
     ]
    },
    {
     "name": "stdout",
     "output_type": "stream",
     "text": [
      "File: files/llb3_fold5_pca_128_cluster_400.npz\n",
      "V-score type: <class 'dict'>\n",
      "V-score value: {'Homogeneity': (0.8324882210756744, nan), 'Completeness': (0.8198564784975496, nan), 'V-measure': (0.8261240666043556, nan)}\n"
     ]
    },
    {
     "name": "stderr",
     "output_type": "stream",
     "text": [
      "/home/george-vengrovski/anaconda3/envs/tweetybert/lib/python3.11/site-packages/numpy/core/_methods.py:269: RuntimeWarning: Degrees of freedom <= 0 for slice\n",
      "  ret = _var(a, axis=axis, dtype=dtype, out=out, ddof=ddof,\n",
      "/home/george-vengrovski/anaconda3/envs/tweetybert/lib/python3.11/site-packages/numpy/core/_methods.py:261: RuntimeWarning: invalid value encountered in scalar divide\n",
      "  ret = ret.dtype.type(ret / rcount)\n"
     ]
    },
    {
     "name": "stdout",
     "output_type": "stream",
     "text": [
      "File: files/llb3_fold5_pca_64_cluster_700.npz\n",
      "V-score type: <class 'dict'>\n",
      "V-score value: {'Homogeneity': (0.85896164643326, nan), 'Completeness': (0.8422890145679056, nan), 'V-measure': (0.8505436327650021, nan)}\n"
     ]
    },
    {
     "name": "stderr",
     "output_type": "stream",
     "text": [
      "/home/george-vengrovski/anaconda3/envs/tweetybert/lib/python3.11/site-packages/numpy/core/_methods.py:269: RuntimeWarning: Degrees of freedom <= 0 for slice\n",
      "  ret = _var(a, axis=axis, dtype=dtype, out=out, ddof=ddof,\n",
      "/home/george-vengrovski/anaconda3/envs/tweetybert/lib/python3.11/site-packages/numpy/core/_methods.py:261: RuntimeWarning: invalid value encountered in scalar divide\n",
      "  ret = ret.dtype.type(ret / rcount)\n"
     ]
    },
    {
     "name": "stdout",
     "output_type": "stream",
     "text": [
      "File: files/llb3_fold5_pca_64_cluster_400.npz\n",
      "V-score type: <class 'dict'>\n",
      "V-score value: {'Homogeneity': (0.8552819038958306, nan), 'Completeness': (0.8067527103326037, nan), 'V-measure': (0.83030881325743, nan)}\n"
     ]
    },
    {
     "name": "stderr",
     "output_type": "stream",
     "text": [
      "/home/george-vengrovski/anaconda3/envs/tweetybert/lib/python3.11/site-packages/numpy/core/_methods.py:269: RuntimeWarning: Degrees of freedom <= 0 for slice\n",
      "  ret = _var(a, axis=axis, dtype=dtype, out=out, ddof=ddof,\n",
      "/home/george-vengrovski/anaconda3/envs/tweetybert/lib/python3.11/site-packages/numpy/core/_methods.py:261: RuntimeWarning: invalid value encountered in scalar divide\n",
      "  ret = ret.dtype.type(ret / rcount)\n"
     ]
    },
    {
     "name": "stdout",
     "output_type": "stream",
     "text": [
      "File: files/llb3_fold5_pca_64_cluster_300.npz\n",
      "V-score type: <class 'dict'>\n",
      "V-score value: {'Homogeneity': (0.8524569669356948, nan), 'Completeness': (0.8277641309333496, nan), 'V-measure': (0.8399291037215642, nan)}\n"
     ]
    },
    {
     "name": "stderr",
     "output_type": "stream",
     "text": [
      "/home/george-vengrovski/anaconda3/envs/tweetybert/lib/python3.11/site-packages/numpy/core/_methods.py:269: RuntimeWarning: Degrees of freedom <= 0 for slice\n",
      "  ret = _var(a, axis=axis, dtype=dtype, out=out, ddof=ddof,\n",
      "/home/george-vengrovski/anaconda3/envs/tweetybert/lib/python3.11/site-packages/numpy/core/_methods.py:261: RuntimeWarning: invalid value encountered in scalar divide\n",
      "  ret = ret.dtype.type(ret / rcount)\n"
     ]
    },
    {
     "name": "stdout",
     "output_type": "stream",
     "text": [
      "File: files/llb3_fold4_pca_128_cluster_1000.npz\n",
      "V-score type: <class 'dict'>\n",
      "V-score value: {'Homogeneity': (0.9251531831074602, nan), 'Completeness': (0.8447120134231567, nan), 'V-measure': (0.8831045545835458, nan)}\n"
     ]
    },
    {
     "name": "stderr",
     "output_type": "stream",
     "text": [
      "/home/george-vengrovski/anaconda3/envs/tweetybert/lib/python3.11/site-packages/numpy/core/_methods.py:269: RuntimeWarning: Degrees of freedom <= 0 for slice\n",
      "  ret = _var(a, axis=axis, dtype=dtype, out=out, ddof=ddof,\n",
      "/home/george-vengrovski/anaconda3/envs/tweetybert/lib/python3.11/site-packages/numpy/core/_methods.py:261: RuntimeWarning: invalid value encountered in scalar divide\n",
      "  ret = ret.dtype.type(ret / rcount)\n"
     ]
    },
    {
     "name": "stdout",
     "output_type": "stream",
     "text": [
      "File: files/llb3_fold4_pca_128_cluster_600.npz\n",
      "V-score type: <class 'dict'>\n",
      "V-score value: {'Homogeneity': (0.8709107197591698, nan), 'Completeness': (0.8646374468312353, nan), 'V-measure': (0.8677627456803827, nan)}\n"
     ]
    },
    {
     "name": "stderr",
     "output_type": "stream",
     "text": [
      "/home/george-vengrovski/anaconda3/envs/tweetybert/lib/python3.11/site-packages/numpy/core/_methods.py:269: RuntimeWarning: Degrees of freedom <= 0 for slice\n",
      "  ret = _var(a, axis=axis, dtype=dtype, out=out, ddof=ddof,\n",
      "/home/george-vengrovski/anaconda3/envs/tweetybert/lib/python3.11/site-packages/numpy/core/_methods.py:261: RuntimeWarning: invalid value encountered in scalar divide\n",
      "  ret = ret.dtype.type(ret / rcount)\n"
     ]
    },
    {
     "name": "stdout",
     "output_type": "stream",
     "text": [
      "File: files/llb3_fold4_pca_128_cluster_500.npz\n",
      "V-score type: <class 'dict'>\n",
      "V-score value: {'Homogeneity': (0.8789242799094534, nan), 'Completeness': (0.8579469508862132, nan), 'V-measure': (0.868308936941438, nan)}\n"
     ]
    },
    {
     "name": "stderr",
     "output_type": "stream",
     "text": [
      "/home/george-vengrovski/anaconda3/envs/tweetybert/lib/python3.11/site-packages/numpy/core/_methods.py:269: RuntimeWarning: Degrees of freedom <= 0 for slice\n",
      "  ret = _var(a, axis=axis, dtype=dtype, out=out, ddof=ddof,\n",
      "/home/george-vengrovski/anaconda3/envs/tweetybert/lib/python3.11/site-packages/numpy/core/_methods.py:261: RuntimeWarning: invalid value encountered in scalar divide\n",
      "  ret = ret.dtype.type(ret / rcount)\n"
     ]
    },
    {
     "name": "stdout",
     "output_type": "stream",
     "text": [
      "File: files/llb3_fold4_pca_128_cluster_300.npz\n",
      "V-score type: <class 'dict'>\n",
      "V-score value: {'Homogeneity': (0.8792339702903172, nan), 'Completeness': (0.8719723359035543, nan), 'V-measure': (0.8755880973796909, nan)}\n"
     ]
    },
    {
     "name": "stderr",
     "output_type": "stream",
     "text": [
      "/home/george-vengrovski/anaconda3/envs/tweetybert/lib/python3.11/site-packages/numpy/core/_methods.py:269: RuntimeWarning: Degrees of freedom <= 0 for slice\n",
      "  ret = _var(a, axis=axis, dtype=dtype, out=out, ddof=ddof,\n",
      "/home/george-vengrovski/anaconda3/envs/tweetybert/lib/python3.11/site-packages/numpy/core/_methods.py:261: RuntimeWarning: invalid value encountered in scalar divide\n",
      "  ret = ret.dtype.type(ret / rcount)\n"
     ]
    },
    {
     "name": "stdout",
     "output_type": "stream",
     "text": [
      "File: files/llb3_fold4_pca_64_cluster_1000.npz\n",
      "V-score type: <class 'dict'>\n",
      "V-score value: {'Homogeneity': (0.8997346159723556, nan), 'Completeness': (0.8257371453239346, nan), 'V-measure': (0.8611491767144192, nan)}\n"
     ]
    },
    {
     "name": "stderr",
     "output_type": "stream",
     "text": [
      "/home/george-vengrovski/anaconda3/envs/tweetybert/lib/python3.11/site-packages/numpy/core/_methods.py:269: RuntimeWarning: Degrees of freedom <= 0 for slice\n",
      "  ret = _var(a, axis=axis, dtype=dtype, out=out, ddof=ddof,\n",
      "/home/george-vengrovski/anaconda3/envs/tweetybert/lib/python3.11/site-packages/numpy/core/_methods.py:261: RuntimeWarning: invalid value encountered in scalar divide\n",
      "  ret = ret.dtype.type(ret / rcount)\n"
     ]
    },
    {
     "name": "stdout",
     "output_type": "stream",
     "text": [
      "File: files/llb3_fold4_pca_64_cluster_800.npz\n",
      "V-score type: <class 'dict'>\n",
      "V-score value: {'Homogeneity': (0.8810882328671884, nan), 'Completeness': (0.8534926013421757, nan), 'V-measure': (0.867070906181857, nan)}\n"
     ]
    },
    {
     "name": "stderr",
     "output_type": "stream",
     "text": [
      "/home/george-vengrovski/anaconda3/envs/tweetybert/lib/python3.11/site-packages/numpy/core/_methods.py:269: RuntimeWarning: Degrees of freedom <= 0 for slice\n",
      "  ret = _var(a, axis=axis, dtype=dtype, out=out, ddof=ddof,\n",
      "/home/george-vengrovski/anaconda3/envs/tweetybert/lib/python3.11/site-packages/numpy/core/_methods.py:261: RuntimeWarning: invalid value encountered in scalar divide\n",
      "  ret = ret.dtype.type(ret / rcount)\n"
     ]
    },
    {
     "name": "stdout",
     "output_type": "stream",
     "text": [
      "File: files/llb3_fold4_pca_64_cluster_700.npz\n",
      "V-score type: <class 'dict'>\n",
      "V-score value: {'Homogeneity': (0.8789472011287542, nan), 'Completeness': (0.8565634113434913, nan), 'V-measure': (0.8676109585030839, nan)}\n"
     ]
    },
    {
     "name": "stderr",
     "output_type": "stream",
     "text": [
      "/home/george-vengrovski/anaconda3/envs/tweetybert/lib/python3.11/site-packages/numpy/core/_methods.py:269: RuntimeWarning: Degrees of freedom <= 0 for slice\n",
      "  ret = _var(a, axis=axis, dtype=dtype, out=out, ddof=ddof,\n",
      "/home/george-vengrovski/anaconda3/envs/tweetybert/lib/python3.11/site-packages/numpy/core/_methods.py:261: RuntimeWarning: invalid value encountered in scalar divide\n",
      "  ret = ret.dtype.type(ret / rcount)\n"
     ]
    },
    {
     "name": "stdout",
     "output_type": "stream",
     "text": [
      "File: files/llb3_fold4_pca_64_cluster_600.npz\n",
      "V-score type: <class 'dict'>\n",
      "V-score value: {'Homogeneity': (0.8813565422341937, nan), 'Completeness': (0.8465252920003119, nan), 'V-measure': (0.8635898468157953, nan)}\n"
     ]
    },
    {
     "name": "stderr",
     "output_type": "stream",
     "text": [
      "/home/george-vengrovski/anaconda3/envs/tweetybert/lib/python3.11/site-packages/numpy/core/_methods.py:269: RuntimeWarning: Degrees of freedom <= 0 for slice\n",
      "  ret = _var(a, axis=axis, dtype=dtype, out=out, ddof=ddof,\n",
      "/home/george-vengrovski/anaconda3/envs/tweetybert/lib/python3.11/site-packages/numpy/core/_methods.py:261: RuntimeWarning: invalid value encountered in scalar divide\n",
      "  ret = ret.dtype.type(ret / rcount)\n"
     ]
    },
    {
     "name": "stdout",
     "output_type": "stream",
     "text": [
      "File: files/llb3_fold4_pca_64_cluster_500.npz\n",
      "V-score type: <class 'dict'>\n",
      "V-score value: {'Homogeneity': (0.8763441020267673, nan), 'Completeness': (0.8810993435588594, nan), 'V-measure': (0.8787152894927589, nan)}\n"
     ]
    },
    {
     "name": "stderr",
     "output_type": "stream",
     "text": [
      "/home/george-vengrovski/anaconda3/envs/tweetybert/lib/python3.11/site-packages/numpy/core/_methods.py:269: RuntimeWarning: Degrees of freedom <= 0 for slice\n",
      "  ret = _var(a, axis=axis, dtype=dtype, out=out, ddof=ddof,\n",
      "/home/george-vengrovski/anaconda3/envs/tweetybert/lib/python3.11/site-packages/numpy/core/_methods.py:261: RuntimeWarning: invalid value encountered in scalar divide\n",
      "  ret = ret.dtype.type(ret / rcount)\n"
     ]
    },
    {
     "name": "stdout",
     "output_type": "stream",
     "text": [
      "File: files/llb3_fold4_pca_64_cluster_400.npz\n",
      "V-score type: <class 'dict'>\n",
      "V-score value: {'Homogeneity': (0.8664048511806164, nan), 'Completeness': (0.8630478385568779, nan), 'V-measure': (0.8647230867473129, nan)}\n"
     ]
    },
    {
     "name": "stderr",
     "output_type": "stream",
     "text": [
      "/home/george-vengrovski/anaconda3/envs/tweetybert/lib/python3.11/site-packages/numpy/core/_methods.py:269: RuntimeWarning: Degrees of freedom <= 0 for slice\n",
      "  ret = _var(a, axis=axis, dtype=dtype, out=out, ddof=ddof,\n",
      "/home/george-vengrovski/anaconda3/envs/tweetybert/lib/python3.11/site-packages/numpy/core/_methods.py:261: RuntimeWarning: invalid value encountered in scalar divide\n",
      "  ret = ret.dtype.type(ret / rcount)\n"
     ]
    },
    {
     "name": "stdout",
     "output_type": "stream",
     "text": [
      "File: files/llb3_fold4_pca_64_cluster_300.npz\n",
      "V-score type: <class 'dict'>\n",
      "V-score value: {'Homogeneity': (0.8722169541396505, nan), 'Completeness': (0.870634012563771, nan), 'V-measure': (0.8714247644996458, nan)}\n"
     ]
    },
    {
     "name": "stderr",
     "output_type": "stream",
     "text": [
      "/home/george-vengrovski/anaconda3/envs/tweetybert/lib/python3.11/site-packages/numpy/core/_methods.py:269: RuntimeWarning: Degrees of freedom <= 0 for slice\n",
      "  ret = _var(a, axis=axis, dtype=dtype, out=out, ddof=ddof,\n",
      "/home/george-vengrovski/anaconda3/envs/tweetybert/lib/python3.11/site-packages/numpy/core/_methods.py:261: RuntimeWarning: invalid value encountered in scalar divide\n",
      "  ret = ret.dtype.type(ret / rcount)\n"
     ]
    },
    {
     "name": "stdout",
     "output_type": "stream",
     "text": [
      "File: files/llb3_fold3_pca_128_cluster_900.npz\n",
      "V-score type: <class 'dict'>\n",
      "V-score value: {'Homogeneity': (0.9061494190749807, nan), 'Completeness': (0.8255624367797859, nan), 'V-measure': (0.8639808291072506, nan)}\n"
     ]
    },
    {
     "name": "stderr",
     "output_type": "stream",
     "text": [
      "/home/george-vengrovski/anaconda3/envs/tweetybert/lib/python3.11/site-packages/numpy/core/_methods.py:269: RuntimeWarning: Degrees of freedom <= 0 for slice\n",
      "  ret = _var(a, axis=axis, dtype=dtype, out=out, ddof=ddof,\n",
      "/home/george-vengrovski/anaconda3/envs/tweetybert/lib/python3.11/site-packages/numpy/core/_methods.py:261: RuntimeWarning: invalid value encountered in scalar divide\n",
      "  ret = ret.dtype.type(ret / rcount)\n"
     ]
    },
    {
     "name": "stdout",
     "output_type": "stream",
     "text": [
      "File: files/llb3_fold3_pca_128_cluster_800.npz\n",
      "V-score type: <class 'dict'>\n",
      "V-score value: {'Homogeneity': (0.9093611998878661, nan), 'Completeness': (0.8549102711056904, nan), 'V-measure': (0.8812954726194412, nan)}\n"
     ]
    },
    {
     "name": "stderr",
     "output_type": "stream",
     "text": [
      "/home/george-vengrovski/anaconda3/envs/tweetybert/lib/python3.11/site-packages/numpy/core/_methods.py:269: RuntimeWarning: Degrees of freedom <= 0 for slice\n",
      "  ret = _var(a, axis=axis, dtype=dtype, out=out, ddof=ddof,\n",
      "/home/george-vengrovski/anaconda3/envs/tweetybert/lib/python3.11/site-packages/numpy/core/_methods.py:261: RuntimeWarning: invalid value encountered in scalar divide\n",
      "  ret = ret.dtype.type(ret / rcount)\n"
     ]
    },
    {
     "name": "stdout",
     "output_type": "stream",
     "text": [
      "File: files/llb3_fold3_pca_128_cluster_700.npz\n",
      "V-score type: <class 'dict'>\n",
      "V-score value: {'Homogeneity': (0.8754846164480516, nan), 'Completeness': (0.859394080828685, nan), 'V-measure': (0.8673647309325527, nan)}\n"
     ]
    },
    {
     "name": "stderr",
     "output_type": "stream",
     "text": [
      "/home/george-vengrovski/anaconda3/envs/tweetybert/lib/python3.11/site-packages/numpy/core/_methods.py:269: RuntimeWarning: Degrees of freedom <= 0 for slice\n",
      "  ret = _var(a, axis=axis, dtype=dtype, out=out, ddof=ddof,\n",
      "/home/george-vengrovski/anaconda3/envs/tweetybert/lib/python3.11/site-packages/numpy/core/_methods.py:261: RuntimeWarning: invalid value encountered in scalar divide\n",
      "  ret = ret.dtype.type(ret / rcount)\n"
     ]
    },
    {
     "name": "stdout",
     "output_type": "stream",
     "text": [
      "File: files/llb3_fold3_pca_128_cluster_600.npz\n",
      "V-score type: <class 'dict'>\n",
      "V-score value: {'Homogeneity': (0.8893897361470539, nan), 'Completeness': (0.839562593978764, nan), 'V-measure': (0.8637581741578392, nan)}\n"
     ]
    },
    {
     "name": "stderr",
     "output_type": "stream",
     "text": [
      "/home/george-vengrovski/anaconda3/envs/tweetybert/lib/python3.11/site-packages/numpy/core/_methods.py:269: RuntimeWarning: Degrees of freedom <= 0 for slice\n",
      "  ret = _var(a, axis=axis, dtype=dtype, out=out, ddof=ddof,\n",
      "/home/george-vengrovski/anaconda3/envs/tweetybert/lib/python3.11/site-packages/numpy/core/_methods.py:261: RuntimeWarning: invalid value encountered in scalar divide\n",
      "  ret = ret.dtype.type(ret / rcount)\n"
     ]
    },
    {
     "name": "stdout",
     "output_type": "stream",
     "text": [
      "File: files/llb3_fold3_pca_128_cluster_300.npz\n",
      "V-score type: <class 'dict'>\n",
      "V-score value: {'Homogeneity': (0.8892195868926408, nan), 'Completeness': (0.8649800402320839, nan), 'V-measure': (0.8769323424224692, nan)}\n"
     ]
    },
    {
     "name": "stderr",
     "output_type": "stream",
     "text": [
      "/home/george-vengrovski/anaconda3/envs/tweetybert/lib/python3.11/site-packages/numpy/core/_methods.py:269: RuntimeWarning: Degrees of freedom <= 0 for slice\n",
      "  ret = _var(a, axis=axis, dtype=dtype, out=out, ddof=ddof,\n",
      "/home/george-vengrovski/anaconda3/envs/tweetybert/lib/python3.11/site-packages/numpy/core/_methods.py:261: RuntimeWarning: invalid value encountered in scalar divide\n",
      "  ret = ret.dtype.type(ret / rcount)\n"
     ]
    },
    {
     "name": "stdout",
     "output_type": "stream",
     "text": [
      "File: files/llb3_fold3_pca_64_cluster_1000.npz\n",
      "V-score type: <class 'dict'>\n",
      "V-score value: {'Homogeneity': (0.8672058686898384, nan), 'Completeness': (0.8402399446307749, nan), 'V-measure': (0.8535099684063702, nan)}\n"
     ]
    },
    {
     "name": "stderr",
     "output_type": "stream",
     "text": [
      "/home/george-vengrovski/anaconda3/envs/tweetybert/lib/python3.11/site-packages/numpy/core/_methods.py:269: RuntimeWarning: Degrees of freedom <= 0 for slice\n",
      "  ret = _var(a, axis=axis, dtype=dtype, out=out, ddof=ddof,\n",
      "/home/george-vengrovski/anaconda3/envs/tweetybert/lib/python3.11/site-packages/numpy/core/_methods.py:261: RuntimeWarning: invalid value encountered in scalar divide\n",
      "  ret = ret.dtype.type(ret / rcount)\n"
     ]
    },
    {
     "name": "stdout",
     "output_type": "stream",
     "text": [
      "File: files/llb3_fold3_pca_64_cluster_900.npz\n",
      "V-score type: <class 'dict'>\n",
      "V-score value: {'Homogeneity': (0.8693229347399287, nan), 'Completeness': (0.8342131329269266, nan), 'V-measure': (0.8514062281145042, nan)}\n"
     ]
    },
    {
     "name": "stderr",
     "output_type": "stream",
     "text": [
      "/home/george-vengrovski/anaconda3/envs/tweetybert/lib/python3.11/site-packages/numpy/core/_methods.py:269: RuntimeWarning: Degrees of freedom <= 0 for slice\n",
      "  ret = _var(a, axis=axis, dtype=dtype, out=out, ddof=ddof,\n",
      "/home/george-vengrovski/anaconda3/envs/tweetybert/lib/python3.11/site-packages/numpy/core/_methods.py:261: RuntimeWarning: invalid value encountered in scalar divide\n",
      "  ret = ret.dtype.type(ret / rcount)\n"
     ]
    },
    {
     "name": "stdout",
     "output_type": "stream",
     "text": [
      "File: files/llb3_fold3_pca_64_cluster_800.npz\n",
      "V-score type: <class 'dict'>\n",
      "V-score value: {'Homogeneity': (0.8710976164239138, nan), 'Completeness': (0.8414188937798553, nan), 'V-measure': (0.8560010819381414, nan)}\n"
     ]
    },
    {
     "name": "stderr",
     "output_type": "stream",
     "text": [
      "/home/george-vengrovski/anaconda3/envs/tweetybert/lib/python3.11/site-packages/numpy/core/_methods.py:269: RuntimeWarning: Degrees of freedom <= 0 for slice\n",
      "  ret = _var(a, axis=axis, dtype=dtype, out=out, ddof=ddof,\n",
      "/home/george-vengrovski/anaconda3/envs/tweetybert/lib/python3.11/site-packages/numpy/core/_methods.py:261: RuntimeWarning: invalid value encountered in scalar divide\n",
      "  ret = ret.dtype.type(ret / rcount)\n"
     ]
    },
    {
     "name": "stdout",
     "output_type": "stream",
     "text": [
      "File: files/llb3_fold3_pca_64_cluster_700.npz\n",
      "V-score type: <class 'dict'>\n",
      "V-score value: {'Homogeneity': (0.8847307287255219, nan), 'Completeness': (0.8633109674075161, nan), 'V-measure': (0.8738896137327112, nan)}\n"
     ]
    },
    {
     "name": "stderr",
     "output_type": "stream",
     "text": [
      "/home/george-vengrovski/anaconda3/envs/tweetybert/lib/python3.11/site-packages/numpy/core/_methods.py:269: RuntimeWarning: Degrees of freedom <= 0 for slice\n",
      "  ret = _var(a, axis=axis, dtype=dtype, out=out, ddof=ddof,\n",
      "/home/george-vengrovski/anaconda3/envs/tweetybert/lib/python3.11/site-packages/numpy/core/_methods.py:261: RuntimeWarning: invalid value encountered in scalar divide\n",
      "  ret = ret.dtype.type(ret / rcount)\n"
     ]
    },
    {
     "name": "stdout",
     "output_type": "stream",
     "text": [
      "File: files/llb3_fold3_pca_64_cluster_600.npz\n",
      "V-score type: <class 'dict'>\n",
      "V-score value: {'Homogeneity': (0.8646774251238148, nan), 'Completeness': (0.8494273573476115, nan), 'V-measure': (0.8569845527437036, nan)}\n"
     ]
    },
    {
     "name": "stderr",
     "output_type": "stream",
     "text": [
      "/home/george-vengrovski/anaconda3/envs/tweetybert/lib/python3.11/site-packages/numpy/core/_methods.py:269: RuntimeWarning: Degrees of freedom <= 0 for slice\n",
      "  ret = _var(a, axis=axis, dtype=dtype, out=out, ddof=ddof,\n",
      "/home/george-vengrovski/anaconda3/envs/tweetybert/lib/python3.11/site-packages/numpy/core/_methods.py:261: RuntimeWarning: invalid value encountered in scalar divide\n",
      "  ret = ret.dtype.type(ret / rcount)\n"
     ]
    },
    {
     "name": "stdout",
     "output_type": "stream",
     "text": [
      "File: files/llb3_fold3_pca_64_cluster_500.npz\n",
      "V-score type: <class 'dict'>\n",
      "V-score value: {'Homogeneity': (0.8739098020613227, nan), 'Completeness': (0.8578450589683019, nan), 'V-measure': (0.865802917667627, nan)}\n"
     ]
    },
    {
     "name": "stderr",
     "output_type": "stream",
     "text": [
      "/home/george-vengrovski/anaconda3/envs/tweetybert/lib/python3.11/site-packages/numpy/core/_methods.py:269: RuntimeWarning: Degrees of freedom <= 0 for slice\n",
      "  ret = _var(a, axis=axis, dtype=dtype, out=out, ddof=ddof,\n",
      "/home/george-vengrovski/anaconda3/envs/tweetybert/lib/python3.11/site-packages/numpy/core/_methods.py:261: RuntimeWarning: invalid value encountered in scalar divide\n",
      "  ret = ret.dtype.type(ret / rcount)\n"
     ]
    },
    {
     "name": "stdout",
     "output_type": "stream",
     "text": [
      "File: files/llb3_fold3_pca_64_cluster_400.npz\n",
      "V-score type: <class 'dict'>\n",
      "V-score value: {'Homogeneity': (0.8747885601029622, nan), 'Completeness': (0.8505724426592438, nan), 'V-measure': (0.8625105600345938, nan)}\n"
     ]
    },
    {
     "name": "stderr",
     "output_type": "stream",
     "text": [
      "/home/george-vengrovski/anaconda3/envs/tweetybert/lib/python3.11/site-packages/numpy/core/_methods.py:269: RuntimeWarning: Degrees of freedom <= 0 for slice\n",
      "  ret = _var(a, axis=axis, dtype=dtype, out=out, ddof=ddof,\n",
      "/home/george-vengrovski/anaconda3/envs/tweetybert/lib/python3.11/site-packages/numpy/core/_methods.py:261: RuntimeWarning: invalid value encountered in scalar divide\n",
      "  ret = ret.dtype.type(ret / rcount)\n"
     ]
    },
    {
     "name": "stdout",
     "output_type": "stream",
     "text": [
      "File: files/llb3_fold3_pca_64_cluster_300.npz\n",
      "V-score type: <class 'dict'>\n",
      "V-score value: {'Homogeneity': (0.8571768696182549, nan), 'Completeness': (0.8588359932842377, nan), 'V-measure': (0.8580056293910173, nan)}\n"
     ]
    },
    {
     "name": "stderr",
     "output_type": "stream",
     "text": [
      "/home/george-vengrovski/anaconda3/envs/tweetybert/lib/python3.11/site-packages/numpy/core/_methods.py:269: RuntimeWarning: Degrees of freedom <= 0 for slice\n",
      "  ret = _var(a, axis=axis, dtype=dtype, out=out, ddof=ddof,\n",
      "/home/george-vengrovski/anaconda3/envs/tweetybert/lib/python3.11/site-packages/numpy/core/_methods.py:261: RuntimeWarning: invalid value encountered in scalar divide\n",
      "  ret = ret.dtype.type(ret / rcount)\n"
     ]
    },
    {
     "name": "stdout",
     "output_type": "stream",
     "text": [
      "File: files/llb3_fold2_pca_128_cluster_1000.npz\n",
      "V-score type: <class 'dict'>\n",
      "V-score value: {'Homogeneity': (0.8862705762026057, nan), 'Completeness': (0.7978511287484805, nan), 'V-measure': (0.8397397617060611, nan)}\n"
     ]
    },
    {
     "name": "stderr",
     "output_type": "stream",
     "text": [
      "/home/george-vengrovski/anaconda3/envs/tweetybert/lib/python3.11/site-packages/numpy/core/_methods.py:269: RuntimeWarning: Degrees of freedom <= 0 for slice\n",
      "  ret = _var(a, axis=axis, dtype=dtype, out=out, ddof=ddof,\n",
      "/home/george-vengrovski/anaconda3/envs/tweetybert/lib/python3.11/site-packages/numpy/core/_methods.py:261: RuntimeWarning: invalid value encountered in scalar divide\n",
      "  ret = ret.dtype.type(ret / rcount)\n"
     ]
    },
    {
     "name": "stdout",
     "output_type": "stream",
     "text": [
      "File: files/llb3_fold2_pca_128_cluster_800.npz\n",
      "V-score type: <class 'dict'>\n",
      "V-score value: {'Homogeneity': (0.8648057665201279, nan), 'Completeness': (0.8199942795281535, nan), 'V-measure': (0.8418040860252245, nan)}\n"
     ]
    },
    {
     "name": "stderr",
     "output_type": "stream",
     "text": [
      "/home/george-vengrovski/anaconda3/envs/tweetybert/lib/python3.11/site-packages/numpy/core/_methods.py:269: RuntimeWarning: Degrees of freedom <= 0 for slice\n",
      "  ret = _var(a, axis=axis, dtype=dtype, out=out, ddof=ddof,\n",
      "/home/george-vengrovski/anaconda3/envs/tweetybert/lib/python3.11/site-packages/numpy/core/_methods.py:261: RuntimeWarning: invalid value encountered in scalar divide\n",
      "  ret = ret.dtype.type(ret / rcount)\n"
     ]
    },
    {
     "name": "stdout",
     "output_type": "stream",
     "text": [
      "File: files/llb3_fold2_pca_128_cluster_500.npz\n",
      "V-score type: <class 'dict'>\n",
      "V-score value: {'Homogeneity': (0.886438230344082, nan), 'Completeness': (0.8573148869222811, nan), 'V-measure': (0.8716333564494361, nan)}\n"
     ]
    },
    {
     "name": "stderr",
     "output_type": "stream",
     "text": [
      "/home/george-vengrovski/anaconda3/envs/tweetybert/lib/python3.11/site-packages/numpy/core/_methods.py:269: RuntimeWarning: Degrees of freedom <= 0 for slice\n",
      "  ret = _var(a, axis=axis, dtype=dtype, out=out, ddof=ddof,\n",
      "/home/george-vengrovski/anaconda3/envs/tweetybert/lib/python3.11/site-packages/numpy/core/_methods.py:261: RuntimeWarning: invalid value encountered in scalar divide\n",
      "  ret = ret.dtype.type(ret / rcount)\n"
     ]
    },
    {
     "name": "stdout",
     "output_type": "stream",
     "text": [
      "File: files/llb3_fold2_pca_128_cluster_300.npz\n",
      "V-score type: <class 'dict'>\n",
      "V-score value: {'Homogeneity': (0.8737068170084917, nan), 'Completeness': (0.8450844409937572, nan), 'V-measure': (0.859157310239345, nan)}\n"
     ]
    },
    {
     "name": "stderr",
     "output_type": "stream",
     "text": [
      "/home/george-vengrovski/anaconda3/envs/tweetybert/lib/python3.11/site-packages/numpy/core/_methods.py:269: RuntimeWarning: Degrees of freedom <= 0 for slice\n",
      "  ret = _var(a, axis=axis, dtype=dtype, out=out, ddof=ddof,\n",
      "/home/george-vengrovski/anaconda3/envs/tweetybert/lib/python3.11/site-packages/numpy/core/_methods.py:261: RuntimeWarning: invalid value encountered in scalar divide\n",
      "  ret = ret.dtype.type(ret / rcount)\n"
     ]
    },
    {
     "name": "stdout",
     "output_type": "stream",
     "text": [
      "File: files/llb3_fold2_pca_64_cluster_1000.npz\n",
      "V-score type: <class 'dict'>\n",
      "V-score value: {'Homogeneity': (0.881302338381274, nan), 'Completeness': (0.8294478066583105, nan), 'V-measure': (0.8545891914055909, nan)}\n"
     ]
    },
    {
     "name": "stderr",
     "output_type": "stream",
     "text": [
      "/home/george-vengrovski/anaconda3/envs/tweetybert/lib/python3.11/site-packages/numpy/core/_methods.py:269: RuntimeWarning: Degrees of freedom <= 0 for slice\n",
      "  ret = _var(a, axis=axis, dtype=dtype, out=out, ddof=ddof,\n",
      "/home/george-vengrovski/anaconda3/envs/tweetybert/lib/python3.11/site-packages/numpy/core/_methods.py:261: RuntimeWarning: invalid value encountered in scalar divide\n",
      "  ret = ret.dtype.type(ret / rcount)\n"
     ]
    },
    {
     "name": "stdout",
     "output_type": "stream",
     "text": [
      "File: files/llb3_fold2_pca_64_cluster_900.npz\n",
      "V-score type: <class 'dict'>\n",
      "V-score value: {'Homogeneity': (0.8519853312509399, nan), 'Completeness': (0.816479455300969, nan), 'V-measure': (0.8338546006976705, nan)}\n"
     ]
    },
    {
     "name": "stderr",
     "output_type": "stream",
     "text": [
      "/home/george-vengrovski/anaconda3/envs/tweetybert/lib/python3.11/site-packages/numpy/core/_methods.py:269: RuntimeWarning: Degrees of freedom <= 0 for slice\n",
      "  ret = _var(a, axis=axis, dtype=dtype, out=out, ddof=ddof,\n",
      "/home/george-vengrovski/anaconda3/envs/tweetybert/lib/python3.11/site-packages/numpy/core/_methods.py:261: RuntimeWarning: invalid value encountered in scalar divide\n",
      "  ret = ret.dtype.type(ret / rcount)\n"
     ]
    },
    {
     "name": "stdout",
     "output_type": "stream",
     "text": [
      "File: files/llb3_fold2_pca_64_cluster_800.npz\n",
      "V-score type: <class 'dict'>\n",
      "V-score value: {'Homogeneity': (0.854339746500671, nan), 'Completeness': (0.8267958153275959, nan), 'V-measure': (0.8403421393413498, nan)}\n"
     ]
    },
    {
     "name": "stderr",
     "output_type": "stream",
     "text": [
      "/home/george-vengrovski/anaconda3/envs/tweetybert/lib/python3.11/site-packages/numpy/core/_methods.py:269: RuntimeWarning: Degrees of freedom <= 0 for slice\n",
      "  ret = _var(a, axis=axis, dtype=dtype, out=out, ddof=ddof,\n",
      "/home/george-vengrovski/anaconda3/envs/tweetybert/lib/python3.11/site-packages/numpy/core/_methods.py:261: RuntimeWarning: invalid value encountered in scalar divide\n",
      "  ret = ret.dtype.type(ret / rcount)\n"
     ]
    },
    {
     "name": "stdout",
     "output_type": "stream",
     "text": [
      "File: files/llb3_fold2_pca_64_cluster_700.npz\n",
      "V-score type: <class 'dict'>\n",
      "V-score value: {'Homogeneity': (0.8570811495418649, nan), 'Completeness': (0.8390647188355944, nan), 'V-measure': (0.8479772490883366, nan)}\n"
     ]
    },
    {
     "name": "stderr",
     "output_type": "stream",
     "text": [
      "/home/george-vengrovski/anaconda3/envs/tweetybert/lib/python3.11/site-packages/numpy/core/_methods.py:269: RuntimeWarning: Degrees of freedom <= 0 for slice\n",
      "  ret = _var(a, axis=axis, dtype=dtype, out=out, ddof=ddof,\n",
      "/home/george-vengrovski/anaconda3/envs/tweetybert/lib/python3.11/site-packages/numpy/core/_methods.py:261: RuntimeWarning: invalid value encountered in scalar divide\n",
      "  ret = ret.dtype.type(ret / rcount)\n"
     ]
    },
    {
     "name": "stdout",
     "output_type": "stream",
     "text": [
      "File: files/llb3_fold2_pca_64_cluster_600.npz\n",
      "V-score type: <class 'dict'>\n",
      "V-score value: {'Homogeneity': (0.8573610480567861, nan), 'Completeness': (0.8280330901548695, nan), 'V-measure': (0.8424418976016688, nan)}\n"
     ]
    },
    {
     "name": "stderr",
     "output_type": "stream",
     "text": [
      "/home/george-vengrovski/anaconda3/envs/tweetybert/lib/python3.11/site-packages/numpy/core/_methods.py:269: RuntimeWarning: Degrees of freedom <= 0 for slice\n",
      "  ret = _var(a, axis=axis, dtype=dtype, out=out, ddof=ddof,\n",
      "/home/george-vengrovski/anaconda3/envs/tweetybert/lib/python3.11/site-packages/numpy/core/_methods.py:261: RuntimeWarning: invalid value encountered in scalar divide\n",
      "  ret = ret.dtype.type(ret / rcount)\n"
     ]
    },
    {
     "name": "stdout",
     "output_type": "stream",
     "text": [
      "File: files/llb3_fold2_pca_64_cluster_500.npz\n",
      "V-score type: <class 'dict'>\n",
      "V-score value: {'Homogeneity': (0.8792965904797643, nan), 'Completeness': (0.8368626662074294, nan), 'V-measure': (0.8575550156300232, nan)}\n"
     ]
    },
    {
     "name": "stderr",
     "output_type": "stream",
     "text": [
      "/home/george-vengrovski/anaconda3/envs/tweetybert/lib/python3.11/site-packages/numpy/core/_methods.py:269: RuntimeWarning: Degrees of freedom <= 0 for slice\n",
      "  ret = _var(a, axis=axis, dtype=dtype, out=out, ddof=ddof,\n",
      "/home/george-vengrovski/anaconda3/envs/tweetybert/lib/python3.11/site-packages/numpy/core/_methods.py:261: RuntimeWarning: invalid value encountered in scalar divide\n",
      "  ret = ret.dtype.type(ret / rcount)\n"
     ]
    },
    {
     "name": "stdout",
     "output_type": "stream",
     "text": [
      "File: files/llb3_fold2_pca_64_cluster_400.npz\n",
      "V-score type: <class 'dict'>\n",
      "V-score value: {'Homogeneity': (0.8620835427853222, nan), 'Completeness': (0.8205271884258153, nan), 'V-measure': (0.840792195638321, nan)}\n"
     ]
    },
    {
     "name": "stderr",
     "output_type": "stream",
     "text": [
      "/home/george-vengrovski/anaconda3/envs/tweetybert/lib/python3.11/site-packages/numpy/core/_methods.py:269: RuntimeWarning: Degrees of freedom <= 0 for slice\n",
      "  ret = _var(a, axis=axis, dtype=dtype, out=out, ddof=ddof,\n",
      "/home/george-vengrovski/anaconda3/envs/tweetybert/lib/python3.11/site-packages/numpy/core/_methods.py:261: RuntimeWarning: invalid value encountered in scalar divide\n",
      "  ret = ret.dtype.type(ret / rcount)\n"
     ]
    },
    {
     "name": "stdout",
     "output_type": "stream",
     "text": [
      "File: files/llb3_fold2_pca_64_cluster_300.npz\n",
      "V-score type: <class 'dict'>\n",
      "V-score value: {'Homogeneity': (0.8488001991003261, nan), 'Completeness': (0.8435377138863882, nan), 'V-measure': (0.846160774394967, nan)}\n"
     ]
    },
    {
     "name": "stderr",
     "output_type": "stream",
     "text": [
      "/home/george-vengrovski/anaconda3/envs/tweetybert/lib/python3.11/site-packages/numpy/core/_methods.py:269: RuntimeWarning: Degrees of freedom <= 0 for slice\n",
      "  ret = _var(a, axis=axis, dtype=dtype, out=out, ddof=ddof,\n",
      "/home/george-vengrovski/anaconda3/envs/tweetybert/lib/python3.11/site-packages/numpy/core/_methods.py:261: RuntimeWarning: invalid value encountered in scalar divide\n",
      "  ret = ret.dtype.type(ret / rcount)\n"
     ]
    },
    {
     "name": "stdout",
     "output_type": "stream",
     "text": [
      "File: files/llb3_fold1_pca_128_cluster_1000.npz\n",
      "V-score type: <class 'dict'>\n",
      "V-score value: {'Homogeneity': (0.8112413428100982, nan), 'Completeness': (0.8053408367697378, nan), 'V-measure': (0.8082803214009142, nan)}\n"
     ]
    },
    {
     "name": "stderr",
     "output_type": "stream",
     "text": [
      "/home/george-vengrovski/anaconda3/envs/tweetybert/lib/python3.11/site-packages/numpy/core/_methods.py:269: RuntimeWarning: Degrees of freedom <= 0 for slice\n",
      "  ret = _var(a, axis=axis, dtype=dtype, out=out, ddof=ddof,\n",
      "/home/george-vengrovski/anaconda3/envs/tweetybert/lib/python3.11/site-packages/numpy/core/_methods.py:261: RuntimeWarning: invalid value encountered in scalar divide\n",
      "  ret = ret.dtype.type(ret / rcount)\n"
     ]
    },
    {
     "name": "stdout",
     "output_type": "stream",
     "text": [
      "File: files/llb3_fold1_pca_128_cluster_900.npz\n",
      "V-score type: <class 'dict'>\n",
      "V-score value: {'Homogeneity': (0.8112854387292316, nan), 'Completeness': (0.7934631324229118, nan), 'V-measure': (0.8022753184830995, nan)}\n"
     ]
    },
    {
     "name": "stderr",
     "output_type": "stream",
     "text": [
      "/home/george-vengrovski/anaconda3/envs/tweetybert/lib/python3.11/site-packages/numpy/core/_methods.py:269: RuntimeWarning: Degrees of freedom <= 0 for slice\n",
      "  ret = _var(a, axis=axis, dtype=dtype, out=out, ddof=ddof,\n",
      "/home/george-vengrovski/anaconda3/envs/tweetybert/lib/python3.11/site-packages/numpy/core/_methods.py:261: RuntimeWarning: invalid value encountered in scalar divide\n",
      "  ret = ret.dtype.type(ret / rcount)\n"
     ]
    },
    {
     "name": "stdout",
     "output_type": "stream",
     "text": [
      "File: files/llb3_fold1_pca_128_cluster_800.npz\n",
      "V-score type: <class 'dict'>\n",
      "V-score value: {'Homogeneity': (0.8212169681768625, nan), 'Completeness': (0.7846520182379038, nan), 'V-measure': (0.8025182090723294, nan)}\n"
     ]
    },
    {
     "name": "stderr",
     "output_type": "stream",
     "text": [
      "/home/george-vengrovski/anaconda3/envs/tweetybert/lib/python3.11/site-packages/numpy/core/_methods.py:269: RuntimeWarning: Degrees of freedom <= 0 for slice\n",
      "  ret = _var(a, axis=axis, dtype=dtype, out=out, ddof=ddof,\n",
      "/home/george-vengrovski/anaconda3/envs/tweetybert/lib/python3.11/site-packages/numpy/core/_methods.py:261: RuntimeWarning: invalid value encountered in scalar divide\n",
      "  ret = ret.dtype.type(ret / rcount)\n"
     ]
    },
    {
     "name": "stdout",
     "output_type": "stream",
     "text": [
      "File: files/llb3_fold1_pca_128_cluster_700.npz\n",
      "V-score type: <class 'dict'>\n",
      "V-score value: {'Homogeneity': (0.8363271858407455, nan), 'Completeness': (0.8079914180399318, nan), 'V-measure': (0.8219151534721019, nan)}\n"
     ]
    },
    {
     "name": "stderr",
     "output_type": "stream",
     "text": [
      "/home/george-vengrovski/anaconda3/envs/tweetybert/lib/python3.11/site-packages/numpy/core/_methods.py:269: RuntimeWarning: Degrees of freedom <= 0 for slice\n",
      "  ret = _var(a, axis=axis, dtype=dtype, out=out, ddof=ddof,\n",
      "/home/george-vengrovski/anaconda3/envs/tweetybert/lib/python3.11/site-packages/numpy/core/_methods.py:261: RuntimeWarning: invalid value encountered in scalar divide\n",
      "  ret = ret.dtype.type(ret / rcount)\n"
     ]
    },
    {
     "name": "stdout",
     "output_type": "stream",
     "text": [
      "File: files/llb3_fold1_pca_128_cluster_500.npz\n",
      "V-score type: <class 'dict'>\n",
      "V-score value: {'Homogeneity': (0.8069689258148788, nan), 'Completeness': (0.813368652203384, nan), 'V-measure': (0.8101561507483136, nan)}\n"
     ]
    },
    {
     "name": "stderr",
     "output_type": "stream",
     "text": [
      "/home/george-vengrovski/anaconda3/envs/tweetybert/lib/python3.11/site-packages/numpy/core/_methods.py:269: RuntimeWarning: Degrees of freedom <= 0 for slice\n",
      "  ret = _var(a, axis=axis, dtype=dtype, out=out, ddof=ddof,\n",
      "/home/george-vengrovski/anaconda3/envs/tweetybert/lib/python3.11/site-packages/numpy/core/_methods.py:261: RuntimeWarning: invalid value encountered in scalar divide\n",
      "  ret = ret.dtype.type(ret / rcount)\n"
     ]
    },
    {
     "name": "stdout",
     "output_type": "stream",
     "text": [
      "File: files/llb3_fold1_pca_128_cluster_400.npz\n",
      "V-score type: <class 'dict'>\n",
      "V-score value: {'Homogeneity': (0.8275728266098279, nan), 'Completeness': (0.8037360098471293, nan), 'V-measure': (0.8154802654804887, nan)}\n"
     ]
    },
    {
     "name": "stderr",
     "output_type": "stream",
     "text": [
      "/home/george-vengrovski/anaconda3/envs/tweetybert/lib/python3.11/site-packages/numpy/core/_methods.py:269: RuntimeWarning: Degrees of freedom <= 0 for slice\n",
      "  ret = _var(a, axis=axis, dtype=dtype, out=out, ddof=ddof,\n",
      "/home/george-vengrovski/anaconda3/envs/tweetybert/lib/python3.11/site-packages/numpy/core/_methods.py:261: RuntimeWarning: invalid value encountered in scalar divide\n",
      "  ret = ret.dtype.type(ret / rcount)\n"
     ]
    },
    {
     "name": "stdout",
     "output_type": "stream",
     "text": [
      "File: files/llb3_fold1_pca_128_cluster_300.npz\n",
      "V-score type: <class 'dict'>\n",
      "V-score value: {'Homogeneity': (0.8107439853668902, nan), 'Completeness': (0.8185309991271147, nan), 'V-measure': (0.8146188834842463, nan)}\n"
     ]
    },
    {
     "name": "stderr",
     "output_type": "stream",
     "text": [
      "/home/george-vengrovski/anaconda3/envs/tweetybert/lib/python3.11/site-packages/numpy/core/_methods.py:269: RuntimeWarning: Degrees of freedom <= 0 for slice\n",
      "  ret = _var(a, axis=axis, dtype=dtype, out=out, ddof=ddof,\n",
      "/home/george-vengrovski/anaconda3/envs/tweetybert/lib/python3.11/site-packages/numpy/core/_methods.py:261: RuntimeWarning: invalid value encountered in scalar divide\n",
      "  ret = ret.dtype.type(ret / rcount)\n"
     ]
    },
    {
     "name": "stdout",
     "output_type": "stream",
     "text": [
      "File: files/llb3_fold1_pca_64_cluster_1000.npz\n",
      "V-score type: <class 'dict'>\n",
      "V-score value: {'Homogeneity': (0.7997468889532311, nan), 'Completeness': (0.7901065787484216, nan), 'V-measure': (0.7948975061318155, nan)}\n"
     ]
    },
    {
     "name": "stderr",
     "output_type": "stream",
     "text": [
      "/home/george-vengrovski/anaconda3/envs/tweetybert/lib/python3.11/site-packages/numpy/core/_methods.py:269: RuntimeWarning: Degrees of freedom <= 0 for slice\n",
      "  ret = _var(a, axis=axis, dtype=dtype, out=out, ddof=ddof,\n",
      "/home/george-vengrovski/anaconda3/envs/tweetybert/lib/python3.11/site-packages/numpy/core/_methods.py:261: RuntimeWarning: invalid value encountered in scalar divide\n",
      "  ret = ret.dtype.type(ret / rcount)\n"
     ]
    },
    {
     "name": "stdout",
     "output_type": "stream",
     "text": [
      "File: files/llb3_fold1_pca_64_cluster_900.npz\n",
      "V-score type: <class 'dict'>\n",
      "V-score value: {'Homogeneity': (0.8061701427340148, nan), 'Completeness': (0.7850651919878026, nan), 'V-measure': (0.7954777072505841, nan)}\n"
     ]
    },
    {
     "name": "stderr",
     "output_type": "stream",
     "text": [
      "/home/george-vengrovski/anaconda3/envs/tweetybert/lib/python3.11/site-packages/numpy/core/_methods.py:269: RuntimeWarning: Degrees of freedom <= 0 for slice\n",
      "  ret = _var(a, axis=axis, dtype=dtype, out=out, ddof=ddof,\n",
      "/home/george-vengrovski/anaconda3/envs/tweetybert/lib/python3.11/site-packages/numpy/core/_methods.py:261: RuntimeWarning: invalid value encountered in scalar divide\n",
      "  ret = ret.dtype.type(ret / rcount)\n"
     ]
    },
    {
     "name": "stdout",
     "output_type": "stream",
     "text": [
      "File: files/llb3_fold1_pca_64_cluster_800.npz\n",
      "V-score type: <class 'dict'>\n",
      "V-score value: {'Homogeneity': (0.8104012642674133, nan), 'Completeness': (0.8045428844080023, nan), 'V-measure': (0.8074614483929637, nan)}\n"
     ]
    },
    {
     "name": "stderr",
     "output_type": "stream",
     "text": [
      "/home/george-vengrovski/anaconda3/envs/tweetybert/lib/python3.11/site-packages/numpy/core/_methods.py:269: RuntimeWarning: Degrees of freedom <= 0 for slice\n",
      "  ret = _var(a, axis=axis, dtype=dtype, out=out, ddof=ddof,\n",
      "/home/george-vengrovski/anaconda3/envs/tweetybert/lib/python3.11/site-packages/numpy/core/_methods.py:261: RuntimeWarning: invalid value encountered in scalar divide\n",
      "  ret = ret.dtype.type(ret / rcount)\n"
     ]
    },
    {
     "name": "stdout",
     "output_type": "stream",
     "text": [
      "File: files/llb3_fold1_pca_64_cluster_700.npz\n",
      "V-score type: <class 'dict'>\n",
      "V-score value: {'Homogeneity': (0.7941778923226986, nan), 'Completeness': (0.7834600031754572, nan), 'V-measure': (0.7887825410590192, nan)}\n"
     ]
    },
    {
     "name": "stderr",
     "output_type": "stream",
     "text": [
      "/home/george-vengrovski/anaconda3/envs/tweetybert/lib/python3.11/site-packages/numpy/core/_methods.py:269: RuntimeWarning: Degrees of freedom <= 0 for slice\n",
      "  ret = _var(a, axis=axis, dtype=dtype, out=out, ddof=ddof,\n",
      "/home/george-vengrovski/anaconda3/envs/tweetybert/lib/python3.11/site-packages/numpy/core/_methods.py:261: RuntimeWarning: invalid value encountered in scalar divide\n",
      "  ret = ret.dtype.type(ret / rcount)\n"
     ]
    },
    {
     "name": "stdout",
     "output_type": "stream",
     "text": [
      "File: files/llb3_fold1_pca_64_cluster_600.npz\n",
      "V-score type: <class 'dict'>\n",
      "V-score value: {'Homogeneity': (0.7909308297111833, nan), 'Completeness': (0.7992108338308894, nan), 'V-measure': (0.7950492744249853, nan)}\n"
     ]
    },
    {
     "name": "stderr",
     "output_type": "stream",
     "text": [
      "/home/george-vengrovski/anaconda3/envs/tweetybert/lib/python3.11/site-packages/numpy/core/_methods.py:269: RuntimeWarning: Degrees of freedom <= 0 for slice\n",
      "  ret = _var(a, axis=axis, dtype=dtype, out=out, ddof=ddof,\n",
      "/home/george-vengrovski/anaconda3/envs/tweetybert/lib/python3.11/site-packages/numpy/core/_methods.py:261: RuntimeWarning: invalid value encountered in scalar divide\n",
      "  ret = ret.dtype.type(ret / rcount)\n"
     ]
    },
    {
     "name": "stdout",
     "output_type": "stream",
     "text": [
      "File: files/llb3_fold1_pca_64_cluster_500.npz\n",
      "V-score type: <class 'dict'>\n",
      "V-score value: {'Homogeneity': (0.8086176474450802, nan), 'Completeness': (0.819776565515257, nan), 'V-measure': (0.8141588720491243, nan)}\n"
     ]
    },
    {
     "name": "stderr",
     "output_type": "stream",
     "text": [
      "/home/george-vengrovski/anaconda3/envs/tweetybert/lib/python3.11/site-packages/numpy/core/_methods.py:269: RuntimeWarning: Degrees of freedom <= 0 for slice\n",
      "  ret = _var(a, axis=axis, dtype=dtype, out=out, ddof=ddof,\n",
      "/home/george-vengrovski/anaconda3/envs/tweetybert/lib/python3.11/site-packages/numpy/core/_methods.py:261: RuntimeWarning: invalid value encountered in scalar divide\n",
      "  ret = ret.dtype.type(ret / rcount)\n"
     ]
    },
    {
     "name": "stdout",
     "output_type": "stream",
     "text": [
      "File: files/llb3_fold1_pca_64_cluster_400.npz\n",
      "V-score type: <class 'dict'>\n",
      "V-score value: {'Homogeneity': (0.8116881413651565, nan), 'Completeness': (0.8135342488570736, nan), 'V-measure': (0.8126101466044947, nan)}\n"
     ]
    },
    {
     "name": "stderr",
     "output_type": "stream",
     "text": [
      "/home/george-vengrovski/anaconda3/envs/tweetybert/lib/python3.11/site-packages/numpy/core/_methods.py:269: RuntimeWarning: Degrees of freedom <= 0 for slice\n",
      "  ret = _var(a, axis=axis, dtype=dtype, out=out, ddof=ddof,\n",
      "/home/george-vengrovski/anaconda3/envs/tweetybert/lib/python3.11/site-packages/numpy/core/_methods.py:261: RuntimeWarning: invalid value encountered in scalar divide\n",
      "  ret = ret.dtype.type(ret / rcount)\n"
     ]
    },
    {
     "name": "stdout",
     "output_type": "stream",
     "text": [
      "File: files/llb3_fold1_pca_64_cluster_300.npz\n",
      "V-score type: <class 'dict'>\n",
      "V-score value: {'Homogeneity': (0.8030412222655943, nan), 'Completeness': (0.8146394030625795, nan), 'V-measure': (0.808798735298415, nan)}\n"
     ]
    },
    {
     "name": "stderr",
     "output_type": "stream",
     "text": [
      "/home/george-vengrovski/anaconda3/envs/tweetybert/lib/python3.11/site-packages/numpy/core/_methods.py:269: RuntimeWarning: Degrees of freedom <= 0 for slice\n",
      "  ret = _var(a, axis=axis, dtype=dtype, out=out, ddof=ddof,\n",
      "/home/george-vengrovski/anaconda3/envs/tweetybert/lib/python3.11/site-packages/numpy/core/_methods.py:261: RuntimeWarning: invalid value encountered in scalar divide\n",
      "  ret = ret.dtype.type(ret / rcount)\n"
     ]
    },
    {
     "name": "stdout",
     "output_type": "stream",
     "text": [
      "File: files/llb3_fold1_pca_64_cluster_200.npz\n",
      "V-score type: <class 'dict'>\n",
      "V-score value: {'Homogeneity': (0.8738128586360503, nan), 'Completeness': (0.8461093037038359, nan), 'V-measure': (0.859737964399694, nan)}\n"
     ]
    },
    {
     "name": "stderr",
     "output_type": "stream",
     "text": [
      "/home/george-vengrovski/anaconda3/envs/tweetybert/lib/python3.11/site-packages/numpy/core/_methods.py:269: RuntimeWarning: Degrees of freedom <= 0 for slice\n",
      "  ret = _var(a, axis=axis, dtype=dtype, out=out, ddof=ddof,\n",
      "/home/george-vengrovski/anaconda3/envs/tweetybert/lib/python3.11/site-packages/numpy/core/_methods.py:261: RuntimeWarning: invalid value encountered in scalar divide\n",
      "  ret = ret.dtype.type(ret / rcount)\n"
     ]
    },
    {
     "name": "stdout",
     "output_type": "stream",
     "text": [
      "File: files/llb3_fold1_pca_64_cluster_50.npz\n",
      "V-score type: <class 'dict'>\n",
      "V-score value: {'Homogeneity': (0.8050256896119236, nan), 'Completeness': (0.8729405078390213, nan), 'V-measure': (0.8376086900687824, nan)}\n"
     ]
    },
    {
     "name": "stderr",
     "output_type": "stream",
     "text": [
      "/home/george-vengrovski/anaconda3/envs/tweetybert/lib/python3.11/site-packages/numpy/core/_methods.py:269: RuntimeWarning: Degrees of freedom <= 0 for slice\n",
      "  ret = _var(a, axis=axis, dtype=dtype, out=out, ddof=ddof,\n",
      "/home/george-vengrovski/anaconda3/envs/tweetybert/lib/python3.11/site-packages/numpy/core/_methods.py:261: RuntimeWarning: invalid value encountered in scalar divide\n",
      "  ret = ret.dtype.type(ret / rcount)\n"
     ]
    },
    {
     "name": "stdout",
     "output_type": "stream",
     "text": [
      "File: files/llb3_fold1_pca_32_cluster_200.npz\n",
      "V-score type: <class 'dict'>\n",
      "V-score value: {'Homogeneity': (0.8723084373241863, nan), 'Completeness': (0.8457412224791199, nan), 'V-measure': (0.8588194176481142, nan)}\n"
     ]
    },
    {
     "name": "stderr",
     "output_type": "stream",
     "text": [
      "/home/george-vengrovski/anaconda3/envs/tweetybert/lib/python3.11/site-packages/numpy/core/_methods.py:269: RuntimeWarning: Degrees of freedom <= 0 for slice\n",
      "  ret = _var(a, axis=axis, dtype=dtype, out=out, ddof=ddof,\n",
      "/home/george-vengrovski/anaconda3/envs/tweetybert/lib/python3.11/site-packages/numpy/core/_methods.py:261: RuntimeWarning: invalid value encountered in scalar divide\n",
      "  ret = ret.dtype.type(ret / rcount)\n"
     ]
    },
    {
     "name": "stdout",
     "output_type": "stream",
     "text": [
      "File: files/llb3_fold1_pca_16_cluster_200.npz\n",
      "V-score type: <class 'dict'>\n",
      "V-score value: {'Homogeneity': (0.7209121627983435, nan), 'Completeness': (0.8512203798814958, nan), 'V-measure': (0.7806658896995634, nan)}\n"
     ]
    },
    {
     "name": "stderr",
     "output_type": "stream",
     "text": [
      "/home/george-vengrovski/anaconda3/envs/tweetybert/lib/python3.11/site-packages/numpy/core/_methods.py:269: RuntimeWarning: Degrees of freedom <= 0 for slice\n",
      "  ret = _var(a, axis=axis, dtype=dtype, out=out, ddof=ddof,\n",
      "/home/george-vengrovski/anaconda3/envs/tweetybert/lib/python3.11/site-packages/numpy/core/_methods.py:261: RuntimeWarning: invalid value encountered in scalar divide\n",
      "  ret = ret.dtype.type(ret / rcount)\n"
     ]
    },
    {
     "name": "stdout",
     "output_type": "stream",
     "text": [
      "File: files/llb3_fold1_pca_32_cluster_1000.npz\n",
      "V-score type: <class 'dict'>\n",
      "V-score value: {'Homogeneity': (0.7441687843216901, nan), 'Completeness': (0.7199026270789645, nan), 'V-measure': (0.7318346067707452, nan)}\n"
     ]
    },
    {
     "name": "stderr",
     "output_type": "stream",
     "text": [
      "/home/george-vengrovski/anaconda3/envs/tweetybert/lib/python3.11/site-packages/numpy/core/_methods.py:269: RuntimeWarning: Degrees of freedom <= 0 for slice\n",
      "  ret = _var(a, axis=axis, dtype=dtype, out=out, ddof=ddof,\n",
      "/home/george-vengrovski/anaconda3/envs/tweetybert/lib/python3.11/site-packages/numpy/core/_methods.py:261: RuntimeWarning: invalid value encountered in scalar divide\n",
      "  ret = ret.dtype.type(ret / rcount)\n"
     ]
    },
    {
     "name": "stdout",
     "output_type": "stream",
     "text": [
      "File: files/llb3_fold1_pca_32_cluster_500.npz\n",
      "V-score type: <class 'dict'>\n",
      "V-score value: {'Homogeneity': (0.6450020559176385, nan), 'Completeness': (0.8021863678755802, nan), 'V-measure': (0.7150580366759244, nan)}\n"
     ]
    },
    {
     "name": "stderr",
     "output_type": "stream",
     "text": [
      "/home/george-vengrovski/anaconda3/envs/tweetybert/lib/python3.11/site-packages/numpy/core/_methods.py:269: RuntimeWarning: Degrees of freedom <= 0 for slice\n",
      "  ret = _var(a, axis=axis, dtype=dtype, out=out, ddof=ddof,\n",
      "/home/george-vengrovski/anaconda3/envs/tweetybert/lib/python3.11/site-packages/numpy/core/_methods.py:261: RuntimeWarning: invalid value encountered in scalar divide\n",
      "  ret = ret.dtype.type(ret / rcount)\n"
     ]
    },
    {
     "name": "stdout",
     "output_type": "stream",
     "text": [
      "File: files/llb3_fold1_pca_32_cluster_100.npz\n",
      "V-score type: <class 'dict'>\n",
      "V-score value: {'Homogeneity': (0.573098859910361, nan), 'Completeness': (0.7798394772611849, nan), 'V-measure': (0.6606732961175733, nan)}\n"
     ]
    },
    {
     "name": "stderr",
     "output_type": "stream",
     "text": [
      "/home/george-vengrovski/anaconda3/envs/tweetybert/lib/python3.11/site-packages/numpy/core/_methods.py:269: RuntimeWarning: Degrees of freedom <= 0 for slice\n",
      "  ret = _var(a, axis=axis, dtype=dtype, out=out, ddof=ddof,\n",
      "/home/george-vengrovski/anaconda3/envs/tweetybert/lib/python3.11/site-packages/numpy/core/_methods.py:261: RuntimeWarning: invalid value encountered in scalar divide\n",
      "  ret = ret.dtype.type(ret / rcount)\n"
     ]
    },
    {
     "name": "stdout",
     "output_type": "stream",
     "text": [
      "File: files/llb3_fold1_pca_16_cluster_1000.npz\n",
      "V-score type: <class 'dict'>\n",
      "V-score value: {'Homogeneity': (0.7302128000512497, nan), 'Completeness': (0.785102503284152, nan), 'V-measure': (0.7566635088928063, nan)}\n"
     ]
    },
    {
     "name": "stderr",
     "output_type": "stream",
     "text": [
      "/home/george-vengrovski/anaconda3/envs/tweetybert/lib/python3.11/site-packages/numpy/core/_methods.py:269: RuntimeWarning: Degrees of freedom <= 0 for slice\n",
      "  ret = _var(a, axis=axis, dtype=dtype, out=out, ddof=ddof,\n",
      "/home/george-vengrovski/anaconda3/envs/tweetybert/lib/python3.11/site-packages/numpy/core/_methods.py:261: RuntimeWarning: invalid value encountered in scalar divide\n",
      "  ret = ret.dtype.type(ret / rcount)\n"
     ]
    },
    {
     "name": "stdout",
     "output_type": "stream",
     "text": [
      "File: files/llb3_fold1_pca_16_cluster_500.npz\n",
      "V-score type: <class 'dict'>\n",
      "V-score value: {'Homogeneity': (0.7139648033621321, nan), 'Completeness': (0.7833037627361339, nan), 'V-measure': (0.7470287289768938, nan)}\n",
      "File: files/llb3_fold1_pca_16_cluster_100.npz\n",
      "V-score type: <class 'dict'>\n",
      "V-score value: {'Homogeneity': (0.651288689519225, nan), 'Completeness': (0.7607722588931812, nan), 'V-measure': (0.7017860922705867, nan)}\n",
      "pca128_cluster1000: 0.000\n",
      "pca128_cluster300: 0.000\n",
      "pca128_cluster400: 0.000\n",
      "pca128_cluster500: 0.000\n",
      "pca128_cluster600: 0.000\n",
      "pca128_cluster700: 0.000\n",
      "pca128_cluster800: 0.000\n",
      "pca128_cluster900: 0.000\n",
      "pca16_cluster100: 0.000\n",
      "pca16_cluster1000: 0.000\n",
      "pca16_cluster200: 0.000\n",
      "pca16_cluster500: 0.000\n",
      "pca32_cluster100: 0.000\n",
      "pca32_cluster1000: 0.000\n",
      "pca32_cluster200: 0.000\n",
      "pca32_cluster500: 0.000\n",
      "pca64_cluster1000: 0.000\n",
      "pca64_cluster200: 0.000\n",
      "pca64_cluster300: 0.000\n",
      "pca64_cluster400: 0.000\n",
      "pca64_cluster50: 0.000\n",
      "pca64_cluster500: 0.000\n",
      "pca64_cluster600: 0.000\n",
      "pca64_cluster700: 0.000\n",
      "pca64_cluster800: 0.000\n",
      "pca64_cluster900: 0.000\n",
      "\n",
      "Structured Results:\n",
      "PCA_dim\t50\t100\t200\t300\t400\t500\t600\t700\t800\t900\t1000\t\n",
      "pca128\tnan\tnan\tnan\t0.000\t0.000\t0.000\t0.000\t0.000\t0.000\t0.000\t0.000\t\n",
      "pca16\tnan\t0.000\t0.000\tnan\tnan\t0.000\tnan\tnan\tnan\tnan\t0.000\t\n",
      "pca32\tnan\t0.000\t0.000\tnan\tnan\t0.000\tnan\tnan\tnan\tnan\t0.000\t\n",
      "pca64\t0.000\tnan\t0.000\t0.000\t0.000\t0.000\t0.000\t0.000\t0.000\t0.000\t0.000\t\n"
     ]
    },
    {
     "name": "stderr",
     "output_type": "stream",
     "text": [
      "/home/george-vengrovski/anaconda3/envs/tweetybert/lib/python3.11/site-packages/numpy/core/_methods.py:269: RuntimeWarning: Degrees of freedom <= 0 for slice\n",
      "  ret = _var(a, axis=axis, dtype=dtype, out=out, ddof=ddof,\n",
      "/home/george-vengrovski/anaconda3/envs/tweetybert/lib/python3.11/site-packages/numpy/core/_methods.py:261: RuntimeWarning: invalid value encountered in scalar divide\n",
      "  ret = ret.dtype.type(ret / rcount)\n"
     ]
    }
   ],
   "source": [
    "# import sys\n",
    "# import os\n",
    "# from collections import defaultdict\n",
    "# import numpy as np\n",
    "\n",
    "# files = [\n",
    "#     \"files/llb3_fold7_pca_128_cluster_1000.npz\",\n",
    "#     \"files/llb3_fold7_pca_128_cluster_900.npz\",\n",
    "#     \"files/llb3_fold7_pca_128_cluster_800.npz\",\n",
    "#     \"files/llb3_fold7_pca_128_cluster_700.npz\",\n",
    "#     \"files/llb3_fold7_pca_128_cluster_600.npz\",\n",
    "#     \"files/llb3_fold7_pca_128_cluster_500.npz\",\n",
    "#     \"files/llb3_fold7_pca_128_cluster_400.npz\",\n",
    "#     \"files/llb3_fold7_pca_128_cluster_300.npz\",\n",
    "#     \"files/llb3_fold7_pca_64_cluster_1000.npz\",\n",
    "#     \"files/llb3_fold7_pca_64_cluster_900.npz\",\n",
    "#     \"files/llb3_fold7_pca_64_cluster_800.npz\",\n",
    "#     \"files/llb3_fold7_pca_64_cluster_700.npz\",\n",
    "#     \"files/llb3_fold7_pca_64_cluster_600.npz\",\n",
    "#     \"files/llb3_fold7_pca_64_cluster_500.npz\",\n",
    "#     \"files/llb3_fold7_pca_64_cluster_400.npz\",\n",
    "#     \"files/llb3_fold7_pca_64_cluster_300.npz\",\n",
    "#     \"files/llb3_fold6_pca_128_cluster_1000.npz\",\n",
    "#     \"files/llb3_fold6_pca_128_cluster_900.npz\",\n",
    "#     \"files/llb3_fold6_pca_128_cluster_800.npz\",\n",
    "#     \"files/llb3_fold6_pca_128_cluster_700.npz\",\n",
    "#     \"files/llb3_fold6_pca_128_cluster_600.npz\",\n",
    "#     \"files/llb3_fold6_pca_128_cluster_500.npz\",\n",
    "#     \"files/llb3_fold6_pca_128_cluster_400.npz\",\n",
    "#     \"files/llb3_fold6_pca_128_cluster_300.npz\",\n",
    "#     \"files/llb3_fold6_pca_64_cluster_1000.npz\",\n",
    "#     \"files/llb3_fold6_pca_64_cluster_900.npz\",\n",
    "#     \"files/llb3_fold6_pca_64_cluster_800.npz\",\n",
    "#     \"files/llb3_fold6_pca_64_cluster_700.npz\",\n",
    "#     \"files/llb3_fold6_pca_64_cluster_600.npz\",\n",
    "#     \"files/llb3_fold6_pca_64_cluster_500.npz\",\n",
    "#     \"files/llb3_fold6_pca_64_cluster_300.npz\",\n",
    "#     \"files/llb3_fold5_pca_128_cluster_700.npz\",\n",
    "#     \"files/llb3_fold5_pca_128_cluster_500.npz\",\n",
    "#     \"files/llb3_fold5_pca_128_cluster_400.npz\",\n",
    "#     \"files/llb3_fold5_pca_64_cluster_700.npz\",\n",
    "#     \"files/llb3_fold5_pca_64_cluster_400.npz\",\n",
    "#     \"files/llb3_fold5_pca_64_cluster_300.npz\",\n",
    "#     \"files/llb3_fold4_pca_128_cluster_1000.npz\",\n",
    "#     \"files/llb3_fold4_pca_128_cluster_600.npz\",\n",
    "#     \"files/llb3_fold4_pca_128_cluster_500.npz\",\n",
    "#     \"files/llb3_fold4_pca_128_cluster_300.npz\",\n",
    "#     \"files/llb3_fold4_pca_64_cluster_1000.npz\",\n",
    "#     \"files/llb3_fold4_pca_64_cluster_800.npz\",\n",
    "#     \"files/llb3_fold4_pca_64_cluster_700.npz\",\n",
    "#     \"files/llb3_fold4_pca_64_cluster_600.npz\",\n",
    "#     \"files/llb3_fold4_pca_64_cluster_500.npz\",\n",
    "#     \"files/llb3_fold4_pca_64_cluster_400.npz\",\n",
    "#     \"files/llb3_fold4_pca_64_cluster_300.npz\",\n",
    "#     \"files/llb3_fold3_pca_128_cluster_900.npz\",\n",
    "#     \"files/llb3_fold3_pca_128_cluster_800.npz\",\n",
    "#     \"files/llb3_fold3_pca_128_cluster_700.npz\",\n",
    "#     \"files/llb3_fold3_pca_128_cluster_600.npz\",\n",
    "#     \"files/llb3_fold3_pca_128_cluster_300.npz\",\n",
    "#     \"files/llb3_fold3_pca_64_cluster_1000.npz\",\n",
    "#     \"files/llb3_fold3_pca_64_cluster_900.npz\",\n",
    "#     \"files/llb3_fold3_pca_64_cluster_800.npz\",\n",
    "#     \"files/llb3_fold3_pca_64_cluster_700.npz\",\n",
    "#     \"files/llb3_fold3_pca_64_cluster_600.npz\",\n",
    "#     \"files/llb3_fold3_pca_64_cluster_500.npz\",\n",
    "#     \"files/llb3_fold3_pca_64_cluster_400.npz\",\n",
    "#     \"files/llb3_fold3_pca_64_cluster_300.npz\",\n",
    "#     \"files/llb3_fold2_pca_128_cluster_1000.npz\",\n",
    "#     \"files/llb3_fold2_pca_128_cluster_800.npz\",\n",
    "#     \"files/llb3_fold2_pca_128_cluster_500.npz\",\n",
    "#     \"files/llb3_fold2_pca_128_cluster_300.npz\",\n",
    "#     \"files/llb3_fold2_pca_64_cluster_1000.npz\",\n",
    "#     \"files/llb3_fold2_pca_64_cluster_900.npz\",\n",
    "#     \"files/llb3_fold2_pca_64_cluster_800.npz\",\n",
    "#     \"files/llb3_fold2_pca_64_cluster_700.npz\",\n",
    "#     \"files/llb3_fold2_pca_64_cluster_600.npz\",\n",
    "#     \"files/llb3_fold2_pca_64_cluster_500.npz\",\n",
    "#     \"files/llb3_fold2_pca_64_cluster_400.npz\",\n",
    "#     \"files/llb3_fold2_pca_64_cluster_300.npz\",\n",
    "#     \"files/llb3_fold1_pca_128_cluster_1000.npz\",\n",
    "#     \"files/llb3_fold1_pca_128_cluster_900.npz\",\n",
    "#     \"files/llb3_fold1_pca_128_cluster_800.npz\",\n",
    "#     \"files/llb3_fold1_pca_128_cluster_700.npz\",\n",
    "#     \"files/llb3_fold1_pca_128_cluster_500.npz\",\n",
    "#     \"files/llb3_fold1_pca_128_cluster_400.npz\",\n",
    "#     \"files/llb3_fold1_pca_128_cluster_300.npz\",\n",
    "#     \"files/llb3_fold1_pca_64_cluster_1000.npz\",\n",
    "#     \"files/llb3_fold1_pca_64_cluster_900.npz\",\n",
    "#     \"files/llb3_fold1_pca_64_cluster_800.npz\",\n",
    "#     \"files/llb3_fold1_pca_64_cluster_700.npz\",\n",
    "#     \"files/llb3_fold1_pca_64_cluster_600.npz\",\n",
    "#     \"files/llb3_fold1_pca_64_cluster_500.npz\",\n",
    "#     \"files/llb3_fold1_pca_64_cluster_400.npz\",\n",
    "#     \"files/llb3_fold1_pca_64_cluster_300.npz\",\n",
    "#     \"files/llb3_fold1_pca_64_cluster_200.npz\",\n",
    "#     \"files/llb3_fold1_pca_64_cluster_50.npz\",\n",
    "#     \"files/llb3_fold1_pca_32_cluster_200.npz\",\n",
    "#     \"files/llb3_fold1_pca_16_cluster_200.npz\",\n",
    "#     \"files/llb3_fold1_pca_32_cluster_1000.npz\",\n",
    "#     \"files/llb3_fold1_pca_32_cluster_500.npz\",\n",
    "#     \"files/llb3_fold1_pca_32_cluster_100.npz\",\n",
    "#     \"files/llb3_fold1_pca_16_cluster_1000.npz\",\n",
    "#     \"files/llb3_fold1_pca_16_cluster_500.npz\",\n",
    "#     \"files/llb3_fold1_pca_16_cluster_100.npz\"\n",
    "# ]\n",
    "\n",
    "# sys.path.append(\"src\")\n",
    "# os.chdir('/home/george-vengrovski/Documents/projects/tweety_bert_paper')\n",
    "\n",
    "# # ... previous imports and file list remain the same ...\n",
    "\n",
    "# # Create dictionaries to store results\n",
    "# results = defaultdict(list)\n",
    "\n",
    "# for file in files:\n",
    "#     try:\n",
    "#         # Extract parameters using regex pattern matching\n",
    "#         import re\n",
    "        \n",
    "#         # Extract PCA dimension\n",
    "#         pca_match = re.search(r'pca_(\\d+)', file)\n",
    "#         pca_dim = pca_match.group(1) if pca_match else None\n",
    "        \n",
    "#         # Extract cluster size\n",
    "#         cluster_match = re.search(r'cluster_(\\d+)', file)\n",
    "#         n_clusters = int(cluster_match.group(1)) if cluster_match else None\n",
    "        \n",
    "#         if pca_dim is None or n_clusters is None:\n",
    "#             print(f\"Couldn't parse parameters from file {file}\")\n",
    "#             continue\n",
    "            \n",
    "#         # Calculate scores\n",
    "#         cluster_performance = ComputerClusterPerformance(labels_path=[file])\n",
    "#         v_score = cluster_performance.compute_vmeasure_score()\n",
    "        \n",
    "#         # Debug print\n",
    "#         print(f\"File: {file}\")\n",
    "#         print(f\"V-score type: {type(v_score)}\")\n",
    "#         print(f\"V-score value: {v_score}\")\n",
    "        \n",
    "#         # Make sure we have a numeric value\n",
    "#         if isinstance(v_score, dict):\n",
    "#             # If v_score is a dict, extract the actual score value\n",
    "#             # You might need to adjust this based on the actual structure of the dict\n",
    "#             v_score = float(v_score.get('v_measure', 0.0))\n",
    "#         elif not isinstance(v_score, (int, float)):\n",
    "#             print(f\"Unexpected v_score type for file {file}\")\n",
    "#             continue\n",
    "        \n",
    "#         # Store results with key format: \"pca{dim}_cluster{n_clusters}\"\n",
    "#         key = f\"pca{pca_dim}_cluster{n_clusters}\"\n",
    "#         results[key].append(v_score)\n",
    "        \n",
    "#     except Exception as e:\n",
    "#         print(f\"Error processing file {file}: {str(e)}\")\n",
    "#         continue\n",
    "\n",
    "# # Calculate averages across folds\n",
    "# avg_scores = {}\n",
    "# for config, scores in results.items():\n",
    "#     if scores:  # Only calculate mean if we have scores\n",
    "#         avg_scores[config] = float(np.mean(scores))\n",
    "#     else:\n",
    "#         avg_scores[config] = float('nan')\n",
    "\n",
    "# # Print results sorted by PCA dimension and cluster size\n",
    "# for config in sorted(avg_scores.keys()):\n",
    "#     print(f\"{config}: {avg_scores[config]:.3f}\")\n",
    "\n",
    "# # Create a more structured view\n",
    "# pca_dims = sorted(set(k.split('_')[0] for k in avg_scores.keys()))\n",
    "# cluster_sizes = sorted(set(int(k.split('_')[1].replace('cluster', '')) for k in avg_scores.keys()))\n",
    "\n",
    "# print(\"\\nStructured Results:\")\n",
    "# print(\"PCA_dim\", end=\"\\t\")\n",
    "# for size in cluster_sizes:\n",
    "#     print(f\"{size}\", end=\"\\t\")\n",
    "# print()\n",
    "\n",
    "# for dim in pca_dims:\n",
    "#     print(f\"{dim}\", end=\"\\t\")\n",
    "#     for size in cluster_sizes:\n",
    "#         key = f\"{dim}_cluster{size}\"\n",
    "#         score = avg_scores.get(key, float('nan'))\n",
    "#         print(f\"{score:.3f}\", end=\"\\t\")\n",
    "#     print()"
   ]
  }
 ],
 "metadata": {
  "kernelspec": {
   "display_name": "tweetybert",
   "language": "python",
   "name": "python3"
  },
  "language_info": {
   "codemirror_mode": {
    "name": "ipython",
    "version": 3
   },
   "file_extension": ".py",
   "mimetype": "text/x-python",
   "name": "python",
   "nbconvert_exporter": "python",
   "pygments_lexer": "ipython3",
   "version": "3.11.9"
  }
 },
 "nbformat": 4,
 "nbformat_minor": 2
}
