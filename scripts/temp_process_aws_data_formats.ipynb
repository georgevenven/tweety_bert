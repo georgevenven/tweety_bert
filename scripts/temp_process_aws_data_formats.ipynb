{
 "cells": [
  {
   "cell_type": "markdown",
   "metadata": {},
   "source": [
    "## Copy WAV files of single birds"
   ]
  },
  {
   "cell_type": "code",
   "execution_count": 1,
   "metadata": {},
   "outputs": [
    {
     "name": "stdout",
     "output_type": "stream",
     "text": [
      "142 wav file(s) copied to /media/george-vengrovski/George-SSD/alistair_call_data_test_org/wav\n"
     ]
    }
   ],
   "source": [
    "origin_data_dir = '/media/george-vengrovski/George-SSD/birdconv_20250311_162324'\n",
    "dest_data_dir = '/media/george-vengrovski/George-SSD/alistair_call_data_test_org'\n",
    "\n",
    "import shutil\n",
    "from pathlib import Path\n",
    "\n",
    "origin_data_dir = Path('/media/george-vengrovski/George-SSD/birdconv_20250311_162324')\n",
    "dest_data_dir = Path('/media/george-vengrovski/George-SSD/alistair_call_data_test_org')\n",
    "dest_wav_dir = dest_data_dir / \"wav\"\n",
    "dest_wav_dir.mkdir(parents=True, exist_ok=True)\n",
    "\n",
    "wav_files = list(origin_data_dir.rglob('*.wav'))\n",
    "\n",
    "copied_count = 0\n",
    "\n",
    "for wav_file in wav_files:\n",
    "    # count occurrences of 'USA' in the file name (case insensitive)\n",
    "    if wav_file.name.upper().count('USA') > 1:\n",
    "        continue\n",
    "    dest_file = dest_wav_dir / wav_file.name\n",
    "    shutil.copy2(wav_file, dest_file)\n",
    "    copied_count += 1\n",
    "\n",
    "print(f\"{copied_count} wav file(s) copied to {dest_wav_dir}\")\n"
   ]
  },
  {
   "cell_type": "code",
   "execution_count": 2,
   "metadata": {},
   "outputs": [
    {
     "name": "stdout",
     "output_type": "stream",
     "text": [
      "146 json file(s) moved to /media/george-vengrovski/George-SSD/alistair_call_data_test_org/json\n"
     ]
    }
   ],
   "source": [
    "import shutil\n",
    "from pathlib import Path\n",
    "\n",
    "origin_data_dir = Path('/media/george-vengrovski/George-SSD/birdconv_20250311_162324')\n",
    "dest_data_dir = Path('/media/george-vengrovski/George-SSD/alistair_call_data_test_org')\n",
    "dest_json_dir = dest_data_dir / \"json\"\n",
    "dest_json_dir.mkdir(parents=True, exist_ok=True)\n",
    "\n",
    "json_files = list(origin_data_dir.rglob('*.json'))\n",
    "moved_count = 0\n",
    "\n",
    "for json_file in json_files:\n",
    "    if json_file.name.upper().count('USA') > 1:\n",
    "        continue\n",
    "    dest_file = dest_json_dir / json_file.name\n",
    "    shutil.move(str(json_file), str(dest_file))\n",
    "    moved_count += 1\n",
    "\n",
    "print(f\"{moved_count} json file(s) moved to {dest_json_dir}\")"
   ]
  },
  {
   "cell_type": "code",
   "execution_count": 5,
   "metadata": {},
   "outputs": [
    {
     "name": "stdout",
     "output_type": "stream",
     "text": [
      "combined json written to /media/george-vengrovski/George-SSD/alistair_call_data_test_org/combined_calls.json\n"
     ]
    }
   ],
   "source": [
    "import json\n",
    "from pathlib import Path\n",
    "\n",
    "# directories\n",
    "json_dir = Path('/media/george-vengrovski/George-SSD/alistair_call_data_test_org/json')\n",
    "output_file = Path('/media/george-vengrovski/George-SSD/alistair_call_data_test_org') / \"combined_calls.json\"\n",
    "\n",
    "# conversion factor from ms to timebin as derived from sample (10/27)\n",
    "conv_factor = 10 / 27\n",
    "\n",
    "combined_entries = []\n",
    "\n",
    "# iterate through each json file in the json directory\n",
    "for jf in json_dir.glob('*.json'):\n",
    "    with open(jf, 'r') as f:\n",
    "        data = json.load(f)\n",
    "    \n",
    "    # extract segments; only process segments where type is \"call\"\n",
    "    segments = data.get(\"segments\", [])\n",
    "    new_segments = []\n",
    "    for seg in segments:\n",
    "        if seg.get(\"type\") != \"call\":\n",
    "            continue\n",
    "        onset_ms = seg.get(\"onset_ms\")\n",
    "        offset_ms = seg.get(\"offset_ms\")\n",
    "        if onset_ms is None or offset_ms is None:\n",
    "            continue\n",
    "        # compute timebins (round to nearest integer)\n",
    "        onset_tb = int(round(onset_ms * conv_factor))\n",
    "        offset_tb = int(round(offset_ms * conv_factor))\n",
    "        new_segments.append({\n",
    "            \"onset_ms\": onset_ms,\n",
    "            \"offset_ms\": offset_ms,\n",
    "            \"onset_timebin\": onset_tb,\n",
    "            \"offset_timebin\": offset_tb\n",
    "        })\n",
    "    \n",
    "    song_present = bool(new_segments)\n",
    "    \n",
    "    # derive new filename by removing .combined.json or .json from the original filename\n",
    "    base = jf.name\n",
    "    if base.endswith('.combined.json'):\n",
    "        new_filename = base.replace('.combined.json', '')\n",
    "    else:\n",
    "        new_filename = base.replace('.json', '')\n",
    "    \n",
    "    # append .wav extension to the new filename\n",
    "    new_filename += \".wav\"\n",
    "    \n",
    "    entry = {\n",
    "        \"filename\": new_filename,\n",
    "        \"song_present\": song_present,\n",
    "        \"segments\": new_segments,\n",
    "        \"spec_parameters\": {\n",
    "            \"step_size\": 119,\n",
    "            \"nfft\": 1024\n",
    "        },\n",
    "        \"syllable_labels\": {}\n",
    "    }\n",
    "    \n",
    "    combined_entries.append(entry)\n",
    "\n",
    "with open(output_file, 'w') as f:\n",
    "    json.dump(combined_entries, f, indent=4)\n",
    "\n",
    "print(f\"combined json written to {output_file}\")\n"
   ]
  }
 ],
 "metadata": {
  "kernelspec": {
   "display_name": "tweetybert",
   "language": "python",
   "name": "python3"
  },
  "language_info": {
   "codemirror_mode": {
    "name": "ipython",
    "version": 3
   },
   "file_extension": ".py",
   "mimetype": "text/x-python",
   "name": "python",
   "nbconvert_exporter": "python",
   "pygments_lexer": "ipython3",
   "version": "3.11.9"
  }
 },
 "nbformat": 4,
 "nbformat_minor": 2
}
